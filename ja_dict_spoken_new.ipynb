{
 "cells": [
  {
   "cell_type": "code",
   "execution_count": 40,
   "id": "da6801ed-84b6-45f8-83fd-beec8b45dac4",
   "metadata": {},
   "outputs": [
    {
     "name": "stdout",
     "output_type": "stream",
     "text": [
      "Import common module\n"
     ]
    }
   ],
   "source": [
    "import notebook_common\n",
    "import jaconv\n",
    "from importlib import reload\n",
    "\n",
    "reload(notebook_common)\n",
    "from notebook_common import (\n",
    "    # ------------------function------------------\n",
    "    read_excel,\n",
    "    to_csv_sig,\n",
    "    # ------------------2400 word------------------\n",
    "    r_word_2400_xlsx,\n",
    "    w_word_2400_csv,\n",
    "    w_word_2400_with_guide_csv,\n",
    "    w_word_2400_without_guide_csv,\n",
    "    # ------------------书面语相关------------------\n",
    "    # 解析书面语正则\n",
    "    # pattern_table_written,\n",
    "    # pattern_td_written,\n",
    "    # r_written_freq_nlt_with_enter_txt,\n",
    "    # w_written_freq_nlt_with_enter_csv,\n",
    "    # w_written_freq_nlt_sumed_csv,\n",
    "    # ------------------口语相关------------------\n",
    "    # 解析口头语正则\n",
    "    pattern_table_spoken,\n",
    "    pattern_td_spoken,\n",
    "    r_spoken_freq_nlb_with_enter_txt,\n",
    "    w_spoken_freq_nlb_with_enter_csv,\n",
    "    w_spoken_freq_nlb_with_enter_filtered_csv,\n",
    "    w_spoken_freq_nlb_with_enter_filtered_hrt_csv,\n",
    "    w_spoken_freq_nlb_with_enter_filtered_hr_csv,\n",
    "    w_spoken_freq_nlb_sumed_csv,\n",
    "    w_tmp_csv,\n",
    "    # ------------------合并书面语和口语词频------------------\n",
    "    w_merged_freq_sumed_csv,\n",
    "    # ------------------公共python库------------------\n",
    "    pd,\n",
    "    np,\n",
    "    l,\n",
    "    p,\n",
    ")\n",
    "\n",
    "p(\"Import common module\")"
   ]
  },
  {
   "cell_type": "code",
   "execution_count": 41,
   "id": "a32062b3-b02e-408f-a4e9-5ca2f27788a5",
   "metadata": {},
   "outputs": [
    {
     "name": "stdout",
     "output_type": "stream",
     "text": [
      "--------------------w_spoken_freq_nlb_with_enter_csv--ok--------------------\n"
     ]
    },
    {
     "data": {
      "text/html": [
       "<div>\n",
       "<style scoped>\n",
       "    .dataframe tbody tr th:only-of-type {\n",
       "        vertical-align: middle;\n",
       "    }\n",
       "\n",
       "    .dataframe tbody tr th {\n",
       "        vertical-align: top;\n",
       "    }\n",
       "\n",
       "    .dataframe thead th {\n",
       "        text-align: right;\n",
       "    }\n",
       "</style>\n",
       "<table border=\"1\" class=\"dataframe\">\n",
       "  <thead>\n",
       "    <tr style=\"text-align: right;\">\n",
       "      <th></th>\n",
       "      <th>headword</th>\n",
       "      <th>type</th>\n",
       "      <th>reading</th>\n",
       "      <th>freq</th>\n",
       "      <th>freq_per</th>\n",
       "      <th>rank</th>\n",
       "      <th>cnt_head</th>\n",
       "      <th>cnt_read</th>\n",
       "      <th>cnt_head_read</th>\n",
       "    </tr>\n",
       "  </thead>\n",
       "  <tbody>\n",
       "    <tr>\n",
       "      <th>0</th>\n",
       "      <td>.</td>\n",
       "      <td>記号</td>\n",
       "      <td>．</td>\n",
       "      <td>989,922</td>\n",
       "      <td>8.7065</td>\n",
       "      <td>0.99900</td>\n",
       "      <td>1</td>\n",
       "      <td>2</td>\n",
       "      <td>1</td>\n",
       "    </tr>\n",
       "    <tr>\n",
       "      <th>1</th>\n",
       "      <td>(</td>\n",
       "      <td>記号</td>\n",
       "      <td>（</td>\n",
       "      <td>851,151</td>\n",
       "      <td>7.4860</td>\n",
       "      <td>0.99890</td>\n",
       "      <td>1</td>\n",
       "      <td>2</td>\n",
       "      <td>1</td>\n",
       "    </tr>\n",
       "    <tr>\n",
       "      <th>2</th>\n",
       "      <td>*</td>\n",
       "      <td>*</td>\n",
       "      <td>329,229</td>\n",
       "      <td>2.8956</td>\n",
       "      <td>0.99728</td>\n",
       "      <td>None</td>\n",
       "      <td>265</td>\n",
       "      <td>1</td>\n",
       "      <td>1</td>\n",
       "    </tr>\n",
       "  </tbody>\n",
       "</table>\n",
       "</div>"
      ],
      "text/plain": [
       "  headword type  reading     freq freq_per     rank  cnt_head  cnt_read  \\\n",
       "0        .   記号        ．  989,922   8.7065  0.99900         1         2   \n",
       "1        (   記号        （  851,151   7.4860  0.99890         1         2   \n",
       "2        *    *  329,229   2.8956  0.99728     None       265         1   \n",
       "\n",
       "   cnt_head_read  \n",
       "0              1  \n",
       "1              1  \n",
       "2              1  "
      ]
     },
     "execution_count": 41,
     "metadata": {},
     "output_type": "execute_result"
    }
   ],
   "source": [
    "# 格式化后的的口语词频文件\n",
    "lst = []\n",
    "with open(r_spoken_freq_nlb_with_enter_txt, \"r\", encoding=\"utf-8\") as f:\n",
    "    content = f.read()  # 一次性读取\n",
    "    table_matches = pattern_table_spoken.findall(content)  # 或 finditer 迭代匹配\n",
    "    for table_match in table_matches:\n",
    "        td_matches_lst = pattern_td_spoken.findall(table_match)\n",
    "        lst.append(td_matches_lst)\n",
    "    columns = [\"headword\", \"type\", \"reading\", \"freq\", \"freq_per\", \"rank\"]\n",
    "    df = pd.DataFrame(lst, columns=columns)\n",
    "    # 将次数映射到新列\n",
    "    df[\"cnt_head\"] = df.groupby([\"headword\"]).transform(\"size\")\n",
    "    df[\"cnt_read\"] = df.groupby([\"reading\"]).transform(\"size\")\n",
    "    df[\"cnt_head_read\"] = df.groupby([\"headword\", \"reading\"]).transform(\"size\")\n",
    "    to_csv_sig(df, w_spoken_freq_nlb_with_enter_csv)\n",
    "l(\"w_spoken_freq_nlb_with_enter_csv--ok\", 20)\n",
    "df[0:3]\n"
   ]
  },
  {
   "cell_type": "code",
   "execution_count": 42,
   "id": "b020e12e-5188-428a-8761-be681eca84f9",
   "metadata": {},
   "outputs": [
    {
     "name": "stdout",
     "output_type": "stream",
     "text": [
      "--------------------w_spoken_freq_nlb_with_enter_filtered_csv--ok--------------------\n"
     ]
    }
   ],
   "source": [
    "# 指定列中，只要有一列的数据为空，删除该行,Inplace=True\n",
    "na_columns = [\"headword\", \"type\", \"reading\", \"freq\", \"rank\"]\n",
    "df.dropna(subset=na_columns, inplace=True)\n",
    "# 将词频转化为数字\n",
    "df[\"freq\"] = pd.to_numeric(df[\"freq\"].str.replace(\",\", \"\"), errors=\"coerce\")\n",
    "# 将记号和*号相关记录删除\n",
    "mask = (df[\"type\"] == \"記号\") | (df[\"headword\"] == \"*\")\n",
    "# 将发音reading转化为平假名\n",
    "df[\"hira\"] = df[\"reading\"].apply(jaconv.kata2hira)\n",
    "df2 = df[~mask].copy()\n",
    "df2.sort_values(by=\"freq\", ascending=False, inplace=True)\n",
    "to_csv_sig(df2, w_spoken_freq_nlb_with_enter_filtered_csv)\n",
    "\n",
    "l(\"w_spoken_freq_nlb_with_enter_filtered_csv--ok\", 20)"
   ]
  },
  {
   "cell_type": "code",
   "execution_count": 43,
   "id": "dbb69aec-c85b-499d-8479-2914d5c25149",
   "metadata": {},
   "outputs": [
    {
     "name": "stdout",
     "output_type": "stream",
     "text": [
      "--------------------w_spoken_freq_nlb_sumed_csv--ok--------------------\n"
     ]
    },
    {
     "data": {
      "text/html": [
       "<div>\n",
       "<style scoped>\n",
       "    .dataframe tbody tr th:only-of-type {\n",
       "        vertical-align: middle;\n",
       "    }\n",
       "\n",
       "    .dataframe tbody tr th {\n",
       "        vertical-align: top;\n",
       "    }\n",
       "\n",
       "    .dataframe thead th {\n",
       "        text-align: right;\n",
       "    }\n",
       "</style>\n",
       "<table border=\"1\" class=\"dataframe\">\n",
       "  <thead>\n",
       "    <tr style=\"text-align: right;\">\n",
       "      <th></th>\n",
       "      <th></th>\n",
       "      <th>spoken_freq</th>\n",
       "    </tr>\n",
       "    <tr>\n",
       "      <th>headword</th>\n",
       "      <th>hira</th>\n",
       "      <th></th>\n",
       "    </tr>\n",
       "  </thead>\n",
       "  <tbody>\n",
       "    <tr>\n",
       "      <th>の</th>\n",
       "      <th>の</th>\n",
       "      <td>57221425</td>\n",
       "    </tr>\n",
       "    <tr>\n",
       "      <th>に</th>\n",
       "      <th>に</th>\n",
       "      <td>35286930</td>\n",
       "    </tr>\n",
       "    <tr>\n",
       "      <th>を</th>\n",
       "      <th>を</th>\n",
       "      <td>33707106</td>\n",
       "    </tr>\n",
       "  </tbody>\n",
       "</table>\n",
       "</div>"
      ],
      "text/plain": [
       "               spoken_freq\n",
       "headword hira             \n",
       "の        の        57221425\n",
       "に        に        35286930\n",
       "を        を        33707106"
      ]
     },
     "execution_count": 43,
     "metadata": {},
     "output_type": "execute_result"
    }
   ],
   "source": [
    "# 处理汇总数据\n",
    "df_spoken_sumed = df2[\"freq\"].groupby([df[\"headword\"], df[\"hira\"]]).sum().to_frame()\n",
    "df_spoken_sumed.rename(columns={\"freq\": \"spoken_freq\"}, inplace=True)\n",
    "df_spoken_sumed.sort_values(by=\"spoken_freq\", ascending=False, inplace=True)\n",
    "##过滤特定数据\n",
    "df_spoken_sumed = df_spoken_sumed[\n",
    "    ~(\n",
    "        (df_spoken_sumed.index.get_level_values(\"headword\") == \"する\")\n",
    "        & (df_spoken_sumed[\"spoken_freq\"] < 300)\n",
    "    )\n",
    "]\n",
    "to_csv_sig(df_spoken_sumed, w_spoken_freq_nlb_sumed_csv, True)\n",
    "l(\"w_spoken_freq_nlb_sumed_csv--ok\", 20)\n",
    "df_spoken_sumed[0:3]"
   ]
  }
 ],
 "metadata": {
  "kernelspec": {
   "display_name": "ds12_ipy",
   "language": "python",
   "name": "ds12"
  },
  "language_info": {
   "codemirror_mode": {
    "name": "ipython",
    "version": 3
   },
   "file_extension": ".py",
   "mimetype": "text/x-python",
   "name": "python",
   "nbconvert_exporter": "python",
   "pygments_lexer": "ipython3",
   "version": "3.12.9"
  },
  "widgets": {
   "application/vnd.jupyter.widget-state+json": {
    "state": {},
    "version_major": 2,
    "version_minor": 0
   }
  }
 },
 "nbformat": 4,
 "nbformat_minor": 5
}
