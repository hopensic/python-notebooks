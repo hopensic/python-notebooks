{
 "cells": [
  {
   "cell_type": "code",
   "execution_count": 80,
   "id": "da6801ed-84b6-45f8-83fd-beec8b45dac4",
   "metadata": {},
   "outputs": [
    {
     "name": "stdout",
     "output_type": "stream",
     "text": [
      "Import common module\n"
     ]
    }
   ],
   "source": [
    "import notebook_common\n",
    "from importlib import reload\n",
    "\n",
    "reload(notebook_common)\n",
    "from notebook_common import (\n",
    "    # ------------------function------------------\n",
    "    read_excel,\n",
    "    to_csv_sig,\n",
    "    # ------------------2400 word------------------\n",
    "    r_word_2400_xlsx,\n",
    "    w_word_2400_csv,\n",
    "    w_word_2400_with_guide_csv,\n",
    "    w_word_2400_without_guide_csv,\n",
    "    # ------------------书面语相关------------------\n",
    "    # 解析书面语正则\n",
    "    # pattern_table_written,\n",
    "    # pattern_td_written,\n",
    "    # r_written_freq_nlt_with_enter_txt,\n",
    "    # w_written_freq_nlt_with_enter_csv,\n",
    "    # w_written_freq_nlt_sumed_csv,\n",
    "    # ------------------口语相关------------------\n",
    "    # 解析口头语正则\n",
    "    pattern_table_spoken,\n",
    "    pattern_td_spoken,\n",
    "    r_spoken_freq_nlb_with_enter_txt,\n",
    "    w_spoken_freq_nlb_with_enter_csv,\n",
    "    w_spoken_freq_nlb_with_enter_filtered_csv,\n",
    "    w_spoken_freq_nlb_with_enter_filtered_hrt_csv,\n",
    "    w_spoken_freq_nlb_with_enter_filtered_hr_csv,\n",
    "    w_spoken_freq_nlb_sumed_csv,\n",
    "    w_tmp_csv,\n",
    "    # ------------------合并书面语和口语词频------------------\n",
    "    w_merged_freq_sumed_csv,\n",
    "    # ------------------公共python库------------------\n",
    "    pd,\n",
    "    np,\n",
    "    p,\n",
    ")\n",
    "\n",
    "p(\"Import common module\")"
   ]
  },
  {
   "cell_type": "code",
   "execution_count": 81,
   "id": "5e6cc83c-de82-4a11-9622-68adcf5034be",
   "metadata": {},
   "outputs": [
    {
     "name": "stdout",
     "output_type": "stream",
     "text": [
      "D:/05.japanproject/jp/freq/w_spoken_freq_nlb_with_enter.csv\n",
      "D:/05.japanproject/jp/freq/w_spoken_freq_nlb_with_enter_filtered.csv\n"
     ]
    }
   ],
   "source": [
    "p(w_spoken_freq_nlb_with_enter_csv)\n",
    "p(w_spoken_freq_nlb_with_enter_filtered_csv)"
   ]
  },
  {
   "cell_type": "code",
   "execution_count": 82,
   "id": "a32062b3-b02e-408f-a4e9-5ca2f27788a5",
   "metadata": {},
   "outputs": [
    {
     "name": "stdout",
     "output_type": "stream",
     "text": [
      "w_spoken_freq_nlb_with_enter_csv--ok\n"
     ]
    }
   ],
   "source": [
    "# 格式化后的的口语词频文件\n",
    "lst = []\n",
    "with open(r_spoken_freq_nlb_with_enter_txt, \"r\", encoding=\"utf-8\") as f:\n",
    "    content = f.read()  # 一次性读取\n",
    "    table_matches = pattern_table_spoken.findall(content)  # 或 finditer 迭代匹配\n",
    "    for table_match in table_matches:\n",
    "        td_matches_lst = pattern_td_spoken.findall(table_match)\n",
    "        lst.append(td_matches_lst)\n",
    "    columns = [\"headword\", \"type\", \"reading\", \"freq\", \"freq_per\", \"rank\"]\n",
    "    df = pd.DataFrame(lst, columns=columns)\n",
    "    # 将次数映射到新列\n",
    "    df[\"count\"] = df.groupby([\"headword\"]).transform(\"size\")\n",
    "    # value_counts = df[\"headword\"].value_counts()\n",
    "    # df[\"count\"] = df[\"headword\"].map(value_counts)\n",
    "    to_csv_sig(df, w_spoken_freq_nlb_with_enter_csv)\n",
    "p(\"w_spoken_freq_nlb_with_enter_csv--ok\")"
   ]
  },
  {
   "cell_type": "code",
   "execution_count": 83,
   "id": "7bbc856e-1ae2-49fa-8846-13299d6afa1b",
   "metadata": {},
   "outputs": [
    {
     "data": {
      "text/html": [
       "<div>\n",
       "<style scoped>\n",
       "    .dataframe tbody tr th:only-of-type {\n",
       "        vertical-align: middle;\n",
       "    }\n",
       "\n",
       "    .dataframe tbody tr th {\n",
       "        vertical-align: top;\n",
       "    }\n",
       "\n",
       "    .dataframe thead th {\n",
       "        text-align: right;\n",
       "    }\n",
       "</style>\n",
       "<table border=\"1\" class=\"dataframe\">\n",
       "  <thead>\n",
       "    <tr style=\"text-align: right;\">\n",
       "      <th></th>\n",
       "      <th>headword</th>\n",
       "      <th>type</th>\n",
       "      <th>reading</th>\n",
       "      <th>freq</th>\n",
       "      <th>freq_per</th>\n",
       "      <th>rank</th>\n",
       "      <th>count</th>\n",
       "    </tr>\n",
       "  </thead>\n",
       "  <tbody>\n",
       "    <tr>\n",
       "      <th>0</th>\n",
       "      <td>.</td>\n",
       "      <td>記号</td>\n",
       "      <td>．</td>\n",
       "      <td>989,922</td>\n",
       "      <td>8.7065</td>\n",
       "      <td>0.99900</td>\n",
       "      <td>1</td>\n",
       "    </tr>\n",
       "    <tr>\n",
       "      <th>1</th>\n",
       "      <td>(</td>\n",
       "      <td>記号</td>\n",
       "      <td>（</td>\n",
       "      <td>851,151</td>\n",
       "      <td>7.4860</td>\n",
       "      <td>0.99890</td>\n",
       "      <td>1</td>\n",
       "    </tr>\n",
       "    <tr>\n",
       "      <th>2</th>\n",
       "      <td>*</td>\n",
       "      <td>*</td>\n",
       "      <td>329,229</td>\n",
       "      <td>2.8956</td>\n",
       "      <td>0.99728</td>\n",
       "      <td>None</td>\n",
       "      <td>265</td>\n",
       "    </tr>\n",
       "    <tr>\n",
       "      <th>3</th>\n",
       "      <td>*</td>\n",
       "      <td>記号</td>\n",
       "      <td>＊</td>\n",
       "      <td>306,861</td>\n",
       "      <td>2.6989</td>\n",
       "      <td>0.99710</td>\n",
       "      <td>265</td>\n",
       "    </tr>\n",
       "    <tr>\n",
       "      <th>4</th>\n",
       "      <td>/</td>\n",
       "      <td>記号</td>\n",
       "      <td>／</td>\n",
       "      <td>199,654</td>\n",
       "      <td>1.7560</td>\n",
       "      <td>0.99524</td>\n",
       "      <td>1</td>\n",
       "    </tr>\n",
       "    <tr>\n",
       "      <th>...</th>\n",
       "      <td>...</td>\n",
       "      <td>...</td>\n",
       "      <td>...</td>\n",
       "      <td>...</td>\n",
       "      <td>...</td>\n",
       "      <td>...</td>\n",
       "      <td>...</td>\n",
       "    </tr>\n",
       "    <tr>\n",
       "      <th>98173</th>\n",
       "      <td>｝</td>\n",
       "      <td>記号</td>\n",
       "      <td>｝</td>\n",
       "      <td>3,281</td>\n",
       "      <td>0.0289</td>\n",
       "      <td>0.86545</td>\n",
       "      <td>1</td>\n",
       "    </tr>\n",
       "    <tr>\n",
       "      <th>98174</th>\n",
       "      <td>～</td>\n",
       "      <td>記号</td>\n",
       "      <td>～</td>\n",
       "      <td>152,926</td>\n",
       "      <td>1.3450</td>\n",
       "      <td>0.99366</td>\n",
       "      <td>1</td>\n",
       "    </tr>\n",
       "    <tr>\n",
       "      <th>98175</th>\n",
       "      <td>￡</td>\n",
       "      <td>記号</td>\n",
       "      <td>ポンド</td>\n",
       "      <td>82</td>\n",
       "      <td>0.0007</td>\n",
       "      <td>0.46012</td>\n",
       "      <td>1</td>\n",
       "    </tr>\n",
       "    <tr>\n",
       "      <th>98176</th>\n",
       "      <td>￣</td>\n",
       "      <td>記号</td>\n",
       "      <td>￣</td>\n",
       "      <td>804</td>\n",
       "      <td>0.0071</td>\n",
       "      <td>0.72208</td>\n",
       "      <td>1</td>\n",
       "    </tr>\n",
       "    <tr>\n",
       "      <th>98177</th>\n",
       "      <td>￥</td>\n",
       "      <td>記号</td>\n",
       "      <td>エン</td>\n",
       "      <td>4,535</td>\n",
       "      <td>0.0399</td>\n",
       "      <td>0.88845</td>\n",
       "      <td>1</td>\n",
       "    </tr>\n",
       "  </tbody>\n",
       "</table>\n",
       "<p>98178 rows × 7 columns</p>\n",
       "</div>"
      ],
      "text/plain": [
       "      headword type  reading     freq freq_per     rank  count\n",
       "0            .   記号        ．  989,922   8.7065  0.99900      1\n",
       "1            (   記号        （  851,151   7.4860  0.99890      1\n",
       "2            *    *  329,229   2.8956  0.99728     None    265\n",
       "3            *   記号        ＊  306,861   2.6989  0.99710    265\n",
       "4            /   記号        ／  199,654   1.7560  0.99524      1\n",
       "...        ...  ...      ...      ...      ...      ...    ...\n",
       "98173        ｝   記号        ｝    3,281   0.0289  0.86545      1\n",
       "98174        ～   記号        ～  152,926   1.3450  0.99366      1\n",
       "98175        ￡   記号      ポンド       82   0.0007  0.46012      1\n",
       "98176        ￣   記号        ￣      804   0.0071  0.72208      1\n",
       "98177        ￥   記号       エン    4,535   0.0399  0.88845      1\n",
       "\n",
       "[98178 rows x 7 columns]"
      ]
     },
     "execution_count": 83,
     "metadata": {},
     "output_type": "execute_result"
    }
   ],
   "source": [
    "df"
   ]
  },
  {
   "cell_type": "code",
   "execution_count": 84,
   "id": "efde2d62-c60f-492b-9f2e-9994a1f14988",
   "metadata": {},
   "outputs": [
    {
     "data": {
      "text/plain": [
       "headword    object\n",
       "type        object\n",
       "reading     object\n",
       "freq        object\n",
       "freq_per    object\n",
       "rank        object\n",
       "count        int64\n",
       "dtype: object"
      ]
     },
     "execution_count": 84,
     "metadata": {},
     "output_type": "execute_result"
    }
   ],
   "source": [
    "df.dtypes"
   ]
  },
  {
   "cell_type": "code",
   "execution_count": 85,
   "id": "8f302a43-579b-46bd-99ba-98d7af0b64bc",
   "metadata": {},
   "outputs": [
    {
     "data": {
      "text/html": [
       "<div>\n",
       "<style scoped>\n",
       "    .dataframe tbody tr th:only-of-type {\n",
       "        vertical-align: middle;\n",
       "    }\n",
       "\n",
       "    .dataframe tbody tr th {\n",
       "        vertical-align: top;\n",
       "    }\n",
       "\n",
       "    .dataframe thead th {\n",
       "        text-align: right;\n",
       "    }\n",
       "</style>\n",
       "<table border=\"1\" class=\"dataframe\">\n",
       "  <thead>\n",
       "    <tr style=\"text-align: right;\">\n",
       "      <th></th>\n",
       "      <th>count</th>\n",
       "    </tr>\n",
       "  </thead>\n",
       "  <tbody>\n",
       "    <tr>\n",
       "      <th>count</th>\n",
       "      <td>98178.000000</td>\n",
       "    </tr>\n",
       "    <tr>\n",
       "      <th>mean</th>\n",
       "      <td>2.215710</td>\n",
       "    </tr>\n",
       "    <tr>\n",
       "      <th>std</th>\n",
       "      <td>17.023583</td>\n",
       "    </tr>\n",
       "    <tr>\n",
       "      <th>min</th>\n",
       "      <td>1.000000</td>\n",
       "    </tr>\n",
       "    <tr>\n",
       "      <th>25%</th>\n",
       "      <td>1.000000</td>\n",
       "    </tr>\n",
       "    <tr>\n",
       "      <th>50%</th>\n",
       "      <td>1.000000</td>\n",
       "    </tr>\n",
       "    <tr>\n",
       "      <th>75%</th>\n",
       "      <td>1.000000</td>\n",
       "    </tr>\n",
       "    <tr>\n",
       "      <th>max</th>\n",
       "      <td>265.000000</td>\n",
       "    </tr>\n",
       "  </tbody>\n",
       "</table>\n",
       "</div>"
      ],
      "text/plain": [
       "              count\n",
       "count  98178.000000\n",
       "mean       2.215710\n",
       "std       17.023583\n",
       "min        1.000000\n",
       "25%        1.000000\n",
       "50%        1.000000\n",
       "75%        1.000000\n",
       "max      265.000000"
      ]
     },
     "execution_count": 85,
     "metadata": {},
     "output_type": "execute_result"
    }
   ],
   "source": [
    "df.describe()"
   ]
  },
  {
   "cell_type": "code",
   "execution_count": 86,
   "id": "b020e12e-5188-428a-8761-be681eca84f9",
   "metadata": {},
   "outputs": [
    {
     "name": "stdout",
     "output_type": "stream",
     "text": [
      "w_spoken_freq_nlb_with_enter_filtered_csv--ok\n"
     ]
    }
   ],
   "source": [
    "# 指定列中，只要有一列的数据为空，删除该行,Inplace=True\n",
    "na_columns = [\"headword\", \"type\", \"reading\", \"freq\", \"rank\"]\n",
    "df.dropna(subset=na_columns, inplace=True)\n",
    "# 将词频转化为数字\n",
    "df[\"freq\"] = pd.to_numeric(df[\"freq\"].str.replace(\",\", \"\"), errors=\"coerce\")\n",
    "# 将记号和*号相关记录删除\n",
    "mask = (df[\"type\"] == \"記号\") | (df[\"headword\"] == \"*\")\n",
    "df2 = df[~mask].copy()\n",
    "df2.sort_values(by=\"freq\", ascending=False, inplace=True)\n",
    "to_csv_sig(df2, w_spoken_freq_nlb_with_enter_filtered_csv)\n",
    "\n",
    "p(\"w_spoken_freq_nlb_with_enter_filtered_csv--ok\")"
   ]
  },
  {
   "cell_type": "raw",
   "id": "ae888c7a-cc0a-4aba-98a1-9acdaf6ffe67",
   "metadata": {},
   "source": [
    "df2[\"hrt\"] = df2.groupby([\"headword\", \"reading\",\"type\"]).transform(\"size\")\n",
    "to_csv_sig(df2,w_tmp_csv)\n",
    "p('w_tmp_csv--ok')\n",
    "\n"
   ]
  },
  {
   "cell_type": "code",
   "execution_count": 87,
   "id": "d2ac1cc1-5f11-4570-80d8-9247702691e9",
   "metadata": {},
   "outputs": [
    {
     "name": "stdout",
     "output_type": "stream",
     "text": [
      "      headword   type  reading      freq  freq_per     rank  count  hr\n",
      "6996         の     助詞        ノ  50267639  442.1104  0.99998      2   2\n",
      "6674         に     助詞        ニ  35286930  310.3531  0.99996      1   1\n",
      "9551         を     助詞        ヲ  33707106  296.4584  0.99995      1   1\n",
      "7123         は     助詞        ハ  31279365  275.1061  0.99994      1   1\n",
      "2665         が     助詞        ガ  30663103  269.6860  0.99993      2   2\n",
      "...        ...    ...      ...       ...       ...      ...    ...  ..\n",
      "98139    Ｔフォール     名詞  ティーフォール         1    0.0000  0.03025      1   1\n",
      "617     あえぎ求める  動詞-自立  アエギモトメル         1    0.0000  0.07489      1   1\n",
      "98112      Ｒする  動詞-自立   ラウンドスル         1    0.0000  0.00328      1   1\n",
      "29336    先入れする  動詞-自立   サキイレスル         1    0.0000  0.04998      1   1\n",
      "73750    移り広がる  動詞-自立  ウツリヒロガル         1    0.0000  0.06955      1   1\n",
      "\n",
      "[97450 rows x 8 columns]\n",
      "w_spoken_freq_nlb_with_enter_filtered_hr_csv--ok\n"
     ]
    }
   ],
   "source": [
    "# 将headword, reading 合成组合字段后， 去重\n",
    "\n",
    "df2[\"hr\"] = df2.groupby([\"headword\", \"reading\"]).transform(\"size\")\n",
    "# df2[\"hrt\"] = df2[\"headword\"] + \"-\" + df2[\"reading\"] + \"-\" + df2[\"type\"]\n",
    "# hrt_counts = df2[\"hrt\"].value_counts()\n",
    "# df2[\"hrt_count\"] = df2[\"hrt\"].map(hrt_counts)\n",
    "# df2[\"r\"] = (\n",
    "#     df2.groupby(\"hrt\")[\"rank\"]\n",
    "#     .rank(\n",
    "#         method=\"first\", ascending=False\n",
    "#     )  # 并列时按出现顺序排名（类似 SQL 的 ROW_NUMBER）  # 升序排列（默认）\n",
    "#     .astype(int)\n",
    "# )\n",
    "# df[df[\"r\"] == 1].to_csv(spoken_freq_nlb_csv_path, index=False, encoding=\"utf-8-sig\")\n",
    "to_csv_sig(df2, w_spoken_freq_nlb_with_enter_filtered_hr_csv)\n",
    "p(df2)\n",
    "p(\"w_spoken_freq_nlb_with_enter_filtered_hr_csv--ok\")"
   ]
  },
  {
   "cell_type": "code",
   "execution_count": 89,
   "id": "dbb69aec-c85b-499d-8479-2914d5c25149",
   "metadata": {},
   "outputs": [
    {
     "name": "stdout",
     "output_type": "stream",
     "text": [
      "                  spoken_freq\n",
      "headword reading             \n",
      "の        ノ           57221425\n",
      "に        ニ           35286930\n",
      "を        ヲ           33707106\n",
      "は        ハ           31279365\n",
      "が        ガ           30705135\n",
      "...                       ...\n",
      "遡求する     ソキュウスル             1\n",
      "遠駆け      トオガケ               1\n",
      "遠近する     オチコチスル             1\n",
      "ちさする     チサスル               1\n",
      "咲き賑わう    サキニギワウ             1\n",
      "\n",
      "[96949 rows x 1 columns]\n",
      "w_spoken_freq_nlb_sumed_csv--ok\n"
     ]
    }
   ],
   "source": [
    "# 处理汇总数据\n",
    "df_spoken_sumed = df2[\"freq\"].groupby([df[\"headword\"], df[\"reading\"]]).sum().to_frame()\n",
    "df_spoken_sumed.rename(columns={\"freq\": \"spoken_freq\"}, inplace=True)\n",
    "df_spoken_sumed.sort_values(by=\"spoken_freq\", ascending=False, inplace=True)\n",
    "to_csv_sig(df_spoken_sumed, w_spoken_freq_nlb_sumed_csv, True)\n",
    "p(df_spoken_sumed)\n",
    "p(\"w_spoken_freq_nlb_sumed_csv--ok\")"
   ]
  },
  {
   "cell_type": "code",
   "execution_count": 91,
   "id": "13ebb1a9-4d9b-4535-b9fd-9a678e57d7dd",
   "metadata": {},
   "outputs": [
    {
     "data": {
      "text/plain": [
       "MultiIndex([(     'の',      'ノ'),\n",
       "            (     'に',      'ニ'),\n",
       "            (     'を',      'ヲ'),\n",
       "            (     'は',      'ハ'),\n",
       "            (     'が',      'ガ'),\n",
       "            (     'て',      'テ'),\n",
       "            (     'た',      'タ'),\n",
       "            (    'ます',     'マス'),\n",
       "            (     'だ',     'ダロ'),\n",
       "            (     'と',      'ト'),\n",
       "            ...\n",
       "            (  '遠謀する', 'エンボウスル'),\n",
       "            ('ちびちびする', 'チビチビスル'),\n",
       "            (  'ちばする',   'チバスル'),\n",
       "            (   '遠海魚', 'エンカイギョ'),\n",
       "            (    '遡江',    'ソコウ'),\n",
       "            (  '遡求する', 'ソキュウスル'),\n",
       "            (   '遠駆け',   'トオガケ'),\n",
       "            (  '遠近する', 'オチコチスル'),\n",
       "            (  'ちさする',   'チサスル'),\n",
       "            ( '咲き賑わう', 'サキニギワウ')],\n",
       "           names=['headword', 'reading'], length=96949)"
      ]
     },
     "execution_count": 91,
     "metadata": {},
     "output_type": "execute_result"
    }
   ],
   "source": [
    "df_spoken_sumed.index"
   ]
  },
  {
   "cell_type": "raw",
   "id": "84749bbd-4dac-49c1-888f-18a85f5da75e",
   "metadata": {},
   "source": [
    "def get_unicode_codepoints(text):\n",
    "    \"\"\"将文本中每个字符转换为4位十六进制Unicode码点字符串（无U+前缀）\"\"\"\n",
    "    return \"\".join([f\"{ord(char):04X}\" for char in text])\n",
    "\n",
    "\n",
    "# 创建示例 DataFrame\n",
    "data = {\n",
    "    \"text_column\": [\"日本語\", \"こんにちは\", \"東京\", \"日本語\"],  # 包含重复文本\n",
    "    \"value\": [100, 200, 300, 400],\n",
    "}\n",
    "df = pd.DataFrame(data)\n",
    "\n",
    "# 设置索引（处理重复值）\n",
    "df.index = (\n",
    "    df[\"text_column\"].apply(get_unicode_codepoints)\n",
    "    + \"_\"\n",
    "    + df.groupby(\"text_column\").cumcount().astype(str)\n",
    ")\n",
    "\n",
    "# 输出结果\n",
    "p(df)"
   ]
  }
 ],
 "metadata": {
  "kernelspec": {
   "display_name": "ds12_ipy",
   "language": "python",
   "name": "ds12"
  },
  "language_info": {
   "codemirror_mode": {
    "name": "ipython",
    "version": 3
   },
   "file_extension": ".py",
   "mimetype": "text/x-python",
   "name": "python",
   "nbconvert_exporter": "python",
   "pygments_lexer": "ipython3",
   "version": "3.12.9"
  },
  "widgets": {
   "application/vnd.jupyter.widget-state+json": {
    "state": {},
    "version_major": 2,
    "version_minor": 0
   }
  }
 },
 "nbformat": 4,
 "nbformat_minor": 5
}
