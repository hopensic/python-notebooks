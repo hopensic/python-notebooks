{
 "cells": [
  {
   "cell_type": "code",
   "execution_count": 71,
   "id": "06aa4b74-c301-4fa4-b55f-166101af543d",
   "metadata": {},
   "outputs": [
    {
     "data": {
      "text/plain": [
       "<module 'jp_util.common_path' from 'D:\\\\02.work_project\\\\jp_util\\\\src\\\\jp_util\\\\common_path.py'>"
      ]
     },
     "execution_count": 71,
     "metadata": {},
     "output_type": "execute_result"
    }
   ],
   "source": [
    "import jp_util.common_path as cp\n",
    "from jp_util.pandas_util import rd_csv_sig, to_csv_sig\n",
    "from jp_util.file_util import get_obj_by_pickle_path, export_to_pickle_path\n",
    "from jp_util.common_util import l, p\n",
    "import jp_util.jap_base_class as jp\n",
    "from importlib import reload\n",
    "import pandas as pd\n",
    "import numpy as np\n",
    "import os\n",
    "import re\n",
    "\n",
    "reload(cp)"
   ]
  },
  {
   "cell_type": "code",
   "execution_count": 72,
   "id": "51aae446-2e92-43ba-98d5-8f6b38caff2a",
   "metadata": {},
   "outputs": [
    {
     "name": "stdout",
     "output_type": "stream",
     "text": [
      "133637\n"
     ]
    }
   ],
   "source": [
    "# 获取13万的基础词条\n",
    "df_base_word = jp.JapBaseWordClass.gen_df_base_word()\n",
    "p(len(df_base_word))"
   ]
  },
  {
   "cell_type": "markdown",
   "id": "07d7ef70-446a-453e-81cc-6e3323ea7518",
   "metadata": {},
   "source": [
    "## 词频调整处理步骤\n",
    "### 一. 标注出需要删除的词和哪些是高中词汇 \n",
    "1. 整理2400_v3_raw.csv的词汇， 在原有的基础词条中标注，哪些是高中词汇。共有2648个高中词汇df_merge_base_2400_v3.csv\n",
    "2. 删除13万词汇中的(含特殊字符的词汇，数字，字母，特殊字符等) 540个 special_char_in_base_word.csv \n",
    "3. 删除13万词汇中的 中文词汇  2567个  单词发音(纯中文无pron).xlsx\n",
    "4. 删除徐老师标注的 24个  异常词（'为'出现在中文词中)，所以比徐老师的少1个\n",
    "5. 删除徐老师标注的 66个  特殊名词\n",
    "6. 删除徐老师标注的 176个  语法类\n",
    "7. 删除徐老师标注的 34个  感叹词\n",
    "### 二. 从高中2400, 5000篇阅读的词汇，长词汇，小学馆中将标注需要删除的词删除\n",
    "1. "
   ]
  },
  {
   "cell_type": "code",
   "execution_count": 73,
   "id": "c137278e-5133-4237-bb74-d4ae3e7525ba",
   "metadata": {},
   "outputs": [
    {
     "name": "stdout",
     "output_type": "stream",
     "text": [
      "2682\n",
      "2624\n",
      "----------------------------------------高中词汇标注完毕ok----------------------------------------\n"
     ]
    }
   ],
   "source": [
    "# 1. 整理2400_v3_raw.csv的词汇， 在原有的基础词条中标注，哪些是高中词汇。\n",
    "df_2400_v3 = rd_csv_sig(cp.r_word_2400_v3_csv)\n",
    "p(len(df_2400_v3))\n",
    "\n",
    "# 把2400_v3去重\n",
    "df_2400_v3_drop_dup = df_2400_v3.drop_duplicates(subset=[\"spell\"], keep=\"first\")\n",
    "p(len(df_2400_v3_drop_dup))\n",
    "\n",
    "df_merge_base_2400_v3 = pd.merge(\n",
    "    df_base_word,\n",
    "    df_2400_v3_drop_dup[[\"spell\"]],\n",
    "    left_on=\"spell\",\n",
    "    right_on=\"spell\",\n",
    "    how=\"left\",\n",
    "    indicator=\"ck_2400_v3\",\n",
    ")\n",
    "# 标注高中高中词汇，用于后续调整词频\n",
    "df_merge_base_2400_v3[\"is_for_student\"] = np.where(\n",
    "    (df_merge_base_2400_v3[\"spell_type\"] == 1)\n",
    "    | (df_merge_base_2400_v3[\"ck_2400_v3\"] == \"both\"),\n",
    "    1,\n",
    "    0,\n",
    ")\n",
    "\n",
    "to_csv_sig(df_merge_base_2400_v3, \"d:/tmp/df_merge_base_2400_v3.csv\")\n",
    "l(\"高中词汇标注完毕ok\")"
   ]
  },
  {
   "cell_type": "code",
   "execution_count": 74,
   "id": "255e3e58-48a4-450b-b668-54079c5c4bd0",
   "metadata": {},
   "outputs": [
    {
     "name": "stdout",
     "output_type": "stream",
     "text": [
      "----------------------------------------ok----------------------------------------\n"
     ]
    }
   ],
   "source": [
    "# 包含特殊字符的词(数字，符号，英文)\n",
    "filtered_df_freq = df_base_word[\n",
    "    df_base_word[\"spell\"].str.contains(cp.filter_pattern, na=False)\n",
    "].copy()\n",
    "to_csv_sig(filtered_df_freq, 'd:/tmp/special_char_in_base_word.csv')\n",
    "l(\"ok\")"
   ]
  },
  {
   "cell_type": "code",
   "execution_count": 87,
   "id": "c2731ca0-2fa9-4b1f-95db-ff7550a092c1",
   "metadata": {},
   "outputs": [
    {
     "name": "stdout",
     "output_type": "stream",
     "text": [
      "3407\n",
      "2600\n",
      "----------------------------------------高中排查ok----------------------------------------\n",
      "32022\n",
      "29248\n",
      "词频总数：835479\n",
      "----------------------------------------5000阅读排查ok----------------------------------------\n",
      "841911\n",
      "768406\n",
      "768002\n",
      "----------------------------------------长词汇排查ok----------------------------------------\n"
     ]
    }
   ],
   "source": [
    "### 二. 从高中2400, 5000篇阅读的词汇，长词汇，小学馆中将标注需要删除的词删除\n",
    "to_del = rd_csv_sig(\"D:/Dropbox/06.wanjuan/01.设计/99.基础词汇调整/to_del.csv\")\n",
    "p(len(to_del))\n",
    "\n",
    "# 1.从高中2400中删除 需要删除的词\n",
    "df_2400_v3_drop_dup_filtered = df_2400_v3_drop_dup[\n",
    "    ~df_2400_v3_drop_dup[\"spell\"].isin(to_del[\"spell\"])\n",
    "]\n",
    "p(len(df_2400_v3_drop_dup_filtered))\n",
    "to_csv_sig(df_2400_v3_drop_dup_filtered, \"d:/tmp/df_2400_v3_drop_dup_filtered.csv\")\n",
    "l(\"高中排查ok\")\n",
    "\n",
    "# 2.5000篇阅读词汇排查\n",
    "df_5000_word = rd_csv_sig(\"D:/Dropbox/06.wanjuan/99.tmp/tiku_freq_sudachipy_B.csv\")\n",
    "p(len(df_5000_word))\n",
    "df_5000_word_filtered = df_5000_word[\n",
    "    ~df_5000_word[\"spell\"].isin(to_del[\"spell\"])\n",
    "].copy()\n",
    "p(len(df_5000_word_filtered))\n",
    "df_5000_word_filtered.rename(columns={\"spell\": \"5000_spell\", \"count\": \"5000_freq\"}, inplace=True)\n",
    "sum_5000_word = sum(df_5000_word_filtered[\"5000_freq\"])\n",
    "print(f'词频总数：{sum_5000_word}')\n",
    "df_5000_word_filtered[\"5000_freq_per\"] = round(df_5000_word_filtered[\"5000_freq\"] / sum_5000_word, 10)\n",
    "df_5000_word_filtered.sort_values([\"5000_freq\"],ascending=False, inplace=True)\n",
    "df_5000_word_filtered.reset_index(inplace=True, drop=True)\n",
    "df_5000_word_filtered.insert(0, \"5000_word_rank\", range(1, len(df_5000_word_filtered) + 1))\n",
    "\n",
    "\n",
    "df_5000_word_filtered.loc[df_5000_word_filtered['5000_spell'] == '人', ['B' ]] = [99]\n",
    "\n",
    "\n",
    "\n",
    "\n",
    "\n",
    "\n",
    "to_csv_sig(df_5000_word_filtered, \"d:/tmp/df_5000_word_filtered.csv\")\n",
    "l(\"5000阅读排查ok\")\n",
    "\n",
    "\n",
    "# 3. 长词汇排查\n",
    "df_long_word_pkl_path = 'd:/95.pickle_files/df_long_word.pkl'\n",
    "\n",
    "if os.path.exists(df_long_word_pkl_path):\n",
    "    df_long_word = get_obj_by_pickle_path(df_long_word_pkl_path)\n",
    "else:\n",
    "    df_long_word = pd.read_csv(\n",
    "        \"d:/03.bigfile/BCCWJ_frequencylist_luw2_ver1_0.tsv\",\n",
    "        encoding=\"utf-8-sig\",\n",
    "        on_bad_lines=\"skip\",\n",
    "        engine=\"python\",\n",
    "        sep=\"\\t\",\n",
    "    )\n",
    "    export_to_pickle_path(df_long_word, df_long_word_pkl_path)\n",
    "p(len(df_long_word))\n",
    "\n",
    "pattern = r\"[˚О○〇◯◎◇✖✕аА▽△▲♪☆★●■☎|。 ̊∙｡･￥\\\"＂〞〝＇＊＃#ⅭK₂ⅡⅢⅣ()\\-－─−←（）〔〕｛｝〒〈〉／;；<=>@＜＞＠、､_【】％+＋！!&＆'%→？…·・“”」～~※℃\\/「｢｣『』{}\\u2460-\\u2473――＝×÷（，＿:：,．\\d\\[\\]\\.\\?\\*a-zA-Z\\uFF21-\\uFF3A\\uFF41-\\uFF5A\\u0391-\\u03A9\\u03B1-\\u03C9]\"\n",
    "#pattern = r\"―\"\n",
    "rec = re.compile(pattern)\n",
    "# df_long_word = df_long_word[~df_long_word[\"lemma\"].str.contains(cp.filter_pattern, na=False)].copy()\n",
    "df_long_word = df_long_word[~df_long_word[\"lemma\"].str.contains(rec, na=False)].copy()\n",
    "p(len(df_long_word))\n",
    "#to_csv_sig(df_long_word,'d:/tmp/df_long_word_tmp.csv')\n",
    "df_long_word = df_long_word[\n",
    "    ~df_long_word[\"lemma\"].isin(to_del[\"spell\"])\n",
    "].copy()\n",
    "p(len(df_long_word))\n",
    "\n",
    "df_long_word.sort_values(\"frequency\", ascending=False, inplace=True)\n",
    "df_long_word=df_long_word.head(45000).copy()\n",
    "df_long_word_summed = df_long_word.groupby(\"lemma\")[\"frequency\"].sum().reset_index()\n",
    "df_long_word_summed.rename(\n",
    "    columns={\"lemma\": \"bccwj_lemma\", \"frequency\": \"bccwj_freq\"}, inplace=True\n",
    ")\n",
    "df_long_word_summed.sort_values(\"bccwj_freq\", ascending=False, inplace=True)\n",
    "bccwj_freq_sum = df_long_word_summed[\"bccwj_freq\"].sum()\n",
    "df_long_word_summed.reset_index(inplace=True, drop=True)\n",
    "df_long_word_summed.insert(0, \"long_word_rank\", range(1, len(df_long_word_summed) + 1))\n",
    "df_long_word_summed[\"bccwj_freq_accu_sum\"] = df_long_word_summed[\"bccwj_freq\"].cumsum()\n",
    "df_long_word_summed[\"bccwj_freq_per\"] = round(\n",
    "    df_long_word_summed[\"bccwj_freq\"] / bccwj_freq_sum, 8\n",
    ")\n",
    "df_long_word_summed[\"bccwj_freq_accu_per\"] = round(\n",
    "    df_long_word_summed[\"bccwj_freq_accu_sum\"] / bccwj_freq_sum, 8\n",
    ")\n",
    "# df_long_word_summed = df_long_word_summed[\n",
    "#     df_long_word_summed[\"bccwj_freq_accu_per\"] <= 0.9\n",
    "# ].copy()\n",
    "\n",
    "to_csv_sig(df_long_word_summed, \"d:/Dropbox/06.wanjuan/99.tmp/df_long_tmp_v2.csv\")\n",
    "\n",
    "l(\"长词汇排查ok\")\n"
   ]
  },
  {
   "cell_type": "code",
   "execution_count": 86,
   "id": "644a47bb-e209-424d-8ac7-0dc74916de5d",
   "metadata": {},
   "outputs": [
    {
     "name": "stdout",
     "output_type": "stream",
     "text": [
      "102513\n",
      "101973\n",
      "101827\n",
      "45000\n",
      "----------------------------------------小学馆排查ok----------------------------------------\n"
     ]
    }
   ],
   "source": [
    "# 4. 小学馆排查\n",
    "df_base_word=rd_csv_sig(cp.w_word_raw_merged_freq_sumed_csv)\n",
    "p(len(df_base_word))\n",
    "pattern = cp.filter_pattern\n",
    "rec = re.compile(pattern)\n",
    "df_base_word = df_base_word[~df_base_word[\"headword\"].str.contains(rec, na=False)].copy()\n",
    "p(len(df_base_word))\n",
    "df_base_word = df_base_word[\n",
    "    ~df_base_word[\"headword\"].isin(to_del[\"spell\"])\n",
    "].copy()\n",
    "p(len(df_base_word))\n",
    "\n",
    "# 取fused_freq>0的\n",
    "df_base_word=df_base_word[df_base_word['fused_freq']>0].copy()\n",
    "df_base_word=df_base_word.head(45000).copy()\n",
    "p(len(df_base_word))\n",
    "cols = [\"word_id\", \"headword\", \"fused_freq\"]\n",
    "df_base_word = df_base_word[cols]\n",
    "sum_base_word = sum(df_base_word[\"fused_freq\"])\n",
    "df_base_word.rename(\n",
    "    columns={\"headword\": \"base_word\", \"fused_freq\": \"base_freq\"}, inplace=True\n",
    ")\n",
    "df_base_word[\"base_freq_per\"] = round(df_base_word[\"base_freq\"] / sum_base_word, 10)\n",
    "\n",
    "df_base_word.sort_values([\"base_freq\"], ascending=False, inplace=True)\n",
    "# df_base_word.reset_index(inplace=True,drop=True)\n",
    "df_base_word.insert(0, \"base_word_rank\", range(1, len(df_base_word) + 1))\n",
    "\n",
    "to_csv_sig(df_base_word,'d:/tmp/df_base_word_tmp.csv')\n",
    "l(\"小学馆排查ok\")\n"
   ]
  },
  {
   "cell_type": "code",
   "execution_count": null,
   "id": "cd1a2b49-97b3-44ef-91ff-f89ed8e5a862",
   "metadata": {},
   "outputs": [],
   "source": [
    "\n",
    "\n",
    "\n",
    "\n"
   ]
  }
 ],
 "metadata": {
  "kernelspec": {
   "display_name": "ds12_ipy",
   "language": "python",
   "name": "ds12"
  },
  "language_info": {
   "codemirror_mode": {
    "name": "ipython",
    "version": 3
   },
   "file_extension": ".py",
   "mimetype": "text/x-python",
   "name": "python",
   "nbconvert_exporter": "python",
   "pygments_lexer": "ipython3",
   "version": "3.12.3"
  },
  "widgets": {
   "application/vnd.jupyter.widget-state+json": {
    "state": {},
    "version_major": 2,
    "version_minor": 0
   }
  }
 },
 "nbformat": 4,
 "nbformat_minor": 5
}
