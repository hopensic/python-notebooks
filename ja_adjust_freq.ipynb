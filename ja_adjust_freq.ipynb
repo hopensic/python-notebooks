{
 "cells": [
  {
   "cell_type": "code",
   "execution_count": 40,
   "id": "06aa4b74-c301-4fa4-b55f-166101af543d",
   "metadata": {},
   "outputs": [
    {
     "data": {
      "text/plain": [
       "<module 'jp_util.common_path' from 'D:\\\\02.work_project\\\\jp_util\\\\src\\\\jp_util\\\\common_path.py'>"
      ]
     },
     "execution_count": 40,
     "metadata": {},
     "output_type": "execute_result"
    }
   ],
   "source": [
    "import jp_util.common_path as cp\n",
    "from jp_util.pandas_util import rd_csv_sig, to_csv_sig\n",
    "from jp_util.common_util import l, p\n",
    "import jp_util.jap_base_class as jp\n",
    "from importlib import reload\n",
    "import pandas as pd\n",
    "\n",
    "reload(cp)"
   ]
  },
  {
   "cell_type": "code",
   "execution_count": 39,
   "id": "51aae446-2e92-43ba-98d5-8f6b38caff2a",
   "metadata": {},
   "outputs": [
    {
     "name": "stdout",
     "output_type": "stream",
     "text": [
      "133637\n"
     ]
    }
   ],
   "source": [
    "# 获取13万的基础词条\n",
    "df_base_word = jp.JapBaseWordClass.gen_df_base_word()\n",
    "p(len(df_base_word))"
   ]
  },
  {
   "cell_type": "markdown",
   "id": "07d7ef70-446a-453e-81cc-6e3323ea7518",
   "metadata": {},
   "source": [
    "## 词频调整处理步骤\n",
    "1. 整理2400_v3_raw.csv的词汇， 在原有的基础词条中标注，哪些是高中词汇。\n",
    "2. "
   ]
  },
  {
   "cell_type": "code",
   "execution_count": 49,
   "id": "c137278e-5133-4237-bb74-d4ae3e7525ba",
   "metadata": {},
   "outputs": [
    {
     "name": "stdout",
     "output_type": "stream",
     "text": [
      "2682\n",
      "2624\n",
      "----------------------------------------ok----------------------------------------\n"
     ]
    }
   ],
   "source": [
    "# 1. 整理2400_v3_raw.csv的词汇， 在原有的基础词条中标注，哪些是高中词汇。\n",
    "df_2400_v3 = rd_csv_sig(cp.r_word_2400_v3_csv)\n",
    "p(len(df_2400_v3))\n",
    "\n",
    "# 把2400_v3去重\n",
    "df_2400_v3_drop_dup = df_2400_v3.drop_duplicates(subset=[\"spell\"], keep=\"first\")\n",
    "p(len(df_2400_v3_drop_dup))\n",
    "\n",
    "\n",
    "df_merge_base_2400_v3 = pd.merge(\n",
    "    df_base_word,\n",
    "    df_2400_v3_drop_dup[[\"spell\"]],\n",
    "    left_on=\"spell\",\n",
    "    right_on=\"spell\",\n",
    "    how=\"left\",\n",
    "    indicator=\"ck_2400_v3\",\n",
    ")\n",
    "\n",
    "\n",
    "#标注高中\n",
    "#df_merge_base_2400_v3_flag\n",
    "\n",
    "\n",
    "\n",
    "\n",
    "to_csv_sig(df_merge_base_2400_v3, \"d:/tmp/df_merge_base_2400_v3.csv\")\n",
    "l(\"ok\")"
   ]
  },
  {
   "cell_type": "code",
   "execution_count": 37,
   "id": "255e3e58-48a4-450b-b668-54079c5c4bd0",
   "metadata": {},
   "outputs": [
    {
     "name": "stdout",
     "output_type": "stream",
     "text": [
      "----------------------------------------ok----------------------------------------\n"
     ]
    }
   ],
   "source": [
    "# 包含特殊字符的词(数字，符号，英文)\n",
    "filtered_df_freq = df_base_word[\n",
    "    df_base_word[\"spell\"].str.contains(cp.filter_pattern, na=False)\n",
    "].copy()\n",
    "to_csv_sig(filtered_df_freq, 'd:/tmp/special_char_in_base_word.csv')\n",
    "l(\"ok\")"
   ]
  },
  {
   "cell_type": "code",
   "execution_count": null,
   "id": "c2731ca0-2fa9-4b1f-95db-ff7550a092c1",
   "metadata": {},
   "outputs": [],
   "source": []
  }
 ],
 "metadata": {
  "kernelspec": {
   "display_name": "ds12_ipy",
   "language": "python",
   "name": "ds12"
  },
  "language_info": {
   "codemirror_mode": {
    "name": "ipython",
    "version": 3
   },
   "file_extension": ".py",
   "mimetype": "text/x-python",
   "name": "python",
   "nbconvert_exporter": "python",
   "pygments_lexer": "ipython3",
   "version": "3.12.3"
  },
  "widgets": {
   "application/vnd.jupyter.widget-state+json": {
    "state": {},
    "version_major": 2,
    "version_minor": 0
   }
  }
 },
 "nbformat": 4,
 "nbformat_minor": 5
}
