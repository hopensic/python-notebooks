{
 "cells": [
  {
   "cell_type": "code",
   "execution_count": 88,
   "id": "9112c0e8-115c-4dee-a050-6853dac52307",
   "metadata": {},
   "outputs": [
    {
     "name": "stdout",
     "output_type": "stream",
     "text": [
      "检测到编码: UTF-8-SIG\n"
     ]
    }
   ],
   "source": [
    "import pandas as pd\n",
    "import chardet\n",
    "\n",
    "\n",
    "with open(\"D:/05.japanproject/jp/freq/spoken_freq_nlb.txt\", \"rb\") as f:\n",
    "    result = chardet.detect(f.read())\n",
    "    print(f\"检测到编码: {result['encoding']}\")\n",
    "\n",
    "spoken_freq_nlb_txt_path = \"D:/05.japanproject/jp/freq/spoken_freq_nlb.txt\"\n",
    "spoken_freq_nlb_csv_path = \"D:/05.japanproject/jp/freq/spoken_freq_nlb.csv\"\n",
    "spoken_freq_nlb_sumed_csv_path = \"D:/05.japanproject/jp/freq/spoken_freq_nlb_sumed.csv\"\n",
    "\n",
    "df = pd.read_csv(\n",
    "    spoken_freq_nlb_txt_path,\n",
    "    header=None,\n",
    "    encoding=\"utf-8-sig\",\n",
    "    sep=\"\\t\",\n",
    "    on_bad_lines=\"skip\",\n",
    "    quotechar='\"',\n",
    "    engine=\"python\",\n",
    ")\n",
    "\n",
    "df.drop([0, 7], axis=1, inplace=True)\n",
    "df.columns = [\"headword\", \"type\", \"reading\", \"freq\", \"freq_per\", \"rank\"]"
   ]
  },
  {
   "cell_type": "code",
   "execution_count": 89,
   "id": "8f302a43-579b-46bd-99ba-98d7af0b64bc",
   "metadata": {},
   "outputs": [
    {
     "data": {
      "text/html": [
       "<div>\n",
       "<style scoped>\n",
       "    .dataframe tbody tr th:only-of-type {\n",
       "        vertical-align: middle;\n",
       "    }\n",
       "\n",
       "    .dataframe tbody tr th {\n",
       "        vertical-align: top;\n",
       "    }\n",
       "\n",
       "    .dataframe thead th {\n",
       "        text-align: right;\n",
       "    }\n",
       "</style>\n",
       "<table border=\"1\" class=\"dataframe\">\n",
       "  <thead>\n",
       "    <tr style=\"text-align: right;\">\n",
       "      <th></th>\n",
       "      <th>freq_per</th>\n",
       "      <th>rank</th>\n",
       "    </tr>\n",
       "  </thead>\n",
       "  <tbody>\n",
       "    <tr>\n",
       "      <th>count</th>\n",
       "      <td>98177.000000</td>\n",
       "      <td>98176.000000</td>\n",
       "    </tr>\n",
       "    <tr>\n",
       "      <th>mean</th>\n",
       "      <td>0.101427</td>\n",
       "      <td>0.499986</td>\n",
       "    </tr>\n",
       "    <tr>\n",
       "      <th>std</th>\n",
       "      <td>3.585749</td>\n",
       "      <td>0.288672</td>\n",
       "    </tr>\n",
       "    <tr>\n",
       "      <th>min</th>\n",
       "      <td>0.000000</td>\n",
       "      <td>0.000000</td>\n",
       "    </tr>\n",
       "    <tr>\n",
       "      <th>25%</th>\n",
       "      <td>0.000100</td>\n",
       "      <td>0.249988</td>\n",
       "    </tr>\n",
       "    <tr>\n",
       "      <th>50%</th>\n",
       "      <td>0.001000</td>\n",
       "      <td>0.499975</td>\n",
       "    </tr>\n",
       "    <tr>\n",
       "      <th>75%</th>\n",
       "      <td>0.008900</td>\n",
       "      <td>0.749982</td>\n",
       "    </tr>\n",
       "    <tr>\n",
       "      <th>max</th>\n",
       "      <td>489.627200</td>\n",
       "      <td>0.999990</td>\n",
       "    </tr>\n",
       "  </tbody>\n",
       "</table>\n",
       "</div>"
      ],
      "text/plain": [
       "           freq_per          rank\n",
       "count  98177.000000  98176.000000\n",
       "mean       0.101427      0.499986\n",
       "std        3.585749      0.288672\n",
       "min        0.000000      0.000000\n",
       "25%        0.000100      0.249988\n",
       "50%        0.001000      0.499975\n",
       "75%        0.008900      0.749982\n",
       "max      489.627200      0.999990"
      ]
     },
     "execution_count": 89,
     "metadata": {},
     "output_type": "execute_result"
    }
   ],
   "source": [
    "df.describe()"
   ]
  },
  {
   "cell_type": "code",
   "execution_count": 90,
   "id": "89b36ba0-ba34-43c2-adbc-b9d6ee2dd969",
   "metadata": {},
   "outputs": [
    {
     "data": {
      "text/plain": [
       "'30533093306B3061306F'"
      ]
     },
     "execution_count": 90,
     "metadata": {},
     "output_type": "execute_result"
    }
   ],
   "source": [
    "def get_unicode_codepoints(text):\n",
    "    \"\"\"获取日语文本中每个字符的Unicode码点（格式为U+XXXX）\"\"\"\n",
    "    return \"\".join([f\"{ord(char):04X}\" for char in text])\n",
    "\n",
    "\n",
    "japanese_word = \"こんにちは\"\n",
    "get_unicode_codepoints(japanese_word)"
   ]
  },
  {
   "cell_type": "code",
   "execution_count": 91,
   "id": "b020e12e-5188-428a-8761-be681eca84f9",
   "metadata": {},
   "outputs": [
    {
     "name": "stdout",
     "output_type": "stream",
     "text": [
      "ok\n"
     ]
    }
   ],
   "source": [
    "df.dropna(subset=[\"headword\", \"type\", \"reading\", \"freq\", \"rank\"], inplace=True)\n",
    "df[\"freq\"] = pd.to_numeric(df[\"freq\"].str.replace(\",\", \"\"), errors=\"coerce\")\n",
    "\n",
    "# 2. 将次数映射到新列\n",
    "value_counts = df[\"headword\"].value_counts()\n",
    "df[\"count\"] = df[\"headword\"].map(value_counts)\n",
    "\n",
    "mask = (df[\"type\"] == \"記号\") | (df[\"headword\"] == \"*\")\n",
    "df = df[~mask].copy()\n",
    "df.sort_values(by=\"freq\", ascending=False, inplace=True)\n",
    "print(\"ok\")"
   ]
  },
  {
   "cell_type": "code",
   "execution_count": 92,
   "id": "d2ac1cc1-5f11-4570-80d8-9247702691e9",
   "metadata": {},
   "outputs": [
    {
     "name": "stdout",
     "output_type": "stream",
     "text": [
      "ok\n"
     ]
    }
   ],
   "source": [
    "df[\"hrt\"] = df[\"headword\"] + \"-\" + df[\"reading\"] + \"-\" + df[\"type\"]\n",
    "hrt_counts = df[\"hrt\"].value_counts()\n",
    "df[\"hrt_count\"] = df[\"hrt\"].map(hrt_counts)\n",
    "df[\"r\"] = (\n",
    "    df.groupby(\"hrt\")[\"rank\"]\n",
    "    .rank(\n",
    "        method=\"first\", ascending=False\n",
    "    )  # 并列时按出现顺序排名（类似 SQL 的 ROW_NUMBER）  # 升序排列（默认）\n",
    "    .astype(int)\n",
    ")\n",
    "print(\"ok\")"
   ]
  },
  {
   "cell_type": "code",
   "execution_count": 93,
   "id": "e80ff0b6-0b71-4b63-945f-8c351a1d6734",
   "metadata": {},
   "outputs": [
    {
     "name": "stdout",
     "output_type": "stream",
     "text": [
      "ok\n"
     ]
    }
   ],
   "source": [
    "df[df[\"r\"] == 1].to_csv(spoken_freq_nlb_csv_path, index=False, encoding=\"utf-8-sig\")\n",
    "# df.to_csv(spoken_freq_nlb_csv_path, index=False, encoding=\"utf-8-sig\")\n",
    "# df.to_csv(spoken_freq_nlb_csv_path, index=False, encoding=\"utf-8-sig\")\n",
    "print(\"ok\")"
   ]
  },
  {
   "cell_type": "code",
   "execution_count": 97,
   "id": "02a508b9-e8ee-4531-810b-9292cb22f380",
   "metadata": {},
   "outputs": [
    {
     "name": "stdout",
     "output_type": "stream",
     "text": [
      "           freq\n",
      "headword       \n",
      "7する          23\n",
      "8         12054\n",
      "8する           1\n",
      "Tシャツ       4083\n",
      "Δ変調           2\n",
      "...         ...\n",
      "ｓｕｐｅｒ         3\n",
      "ｔ          1760\n",
      "ｔｈｅ          60\n",
      "ｖ           119\n",
      "ｗ            20\n",
      "\n",
      "[96089 rows x 1 columns]\n",
      "ok\n"
     ]
    }
   ],
   "source": [
    "spoken_freq_nlb_sumed_csv_path = \"D:/05.japanproject/jp/freq/spoken_freq_nlb_sumed.csv\"\n",
    "a = df[\"freq\"].groupby(df[\"headword\"]).sum().to_frame()\n",
    "a.rename(columns={\"freq\": \"spoken_freq\"}, inplace=True)\n",
    "\n",
    "a.sort_values(by=\"spoken_freq\", ascending=False, inplace=True)\n",
    "a.to_csv(spoken_freq_nlb_sumed_csv_path, encoding=\"utf-8-sig\")\n",
    "print(\"ok\")"
   ]
  },
  {
   "cell_type": "code",
   "execution_count": 8,
   "id": "0344aee0-524e-4d2a-82b8-1a2336489bda",
   "metadata": {},
   "outputs": [
    {
     "name": "stdout",
     "output_type": "stream",
     "text": [
      "                       text_column  value\n",
      "65E5672C8A9E_0                 日本語    100\n",
      "30533093306B3061306F_0       こんにちは    200\n",
      "67714EAC_0                      東京    300\n",
      "65E5672C8A9E_1                 日本語    400\n"
     ]
    }
   ],
   "source": [
    "def get_unicode_codepoints(text):\n",
    "    \"\"\"将文本中每个字符转换为4位十六进制Unicode码点字符串（无U+前缀）\"\"\"\n",
    "    return \"\".join([f\"{ord(char):04X}\" for char in text])\n",
    "\n",
    "\n",
    "# 创建示例 DataFrame\n",
    "data = {\n",
    "    \"text_column\": [\"日本語\", \"こんにちは\", \"東京\", \"日本語\"],  # 包含重复文本\n",
    "    \"value\": [100, 200, 300, 400],\n",
    "}\n",
    "df = pd.DataFrame(data)\n",
    "\n",
    "# 设置索引（处理重复值）\n",
    "df.index = (\n",
    "    df[\"text_column\"].apply(get_unicode_codepoints)\n",
    "    + \"_\"\n",
    "    + df.groupby(\"text_column\").cumcount().astype(str)\n",
    ")\n",
    "\n",
    "# 输出结果\n",
    "print(df)"
   ]
  }
 ],
 "metadata": {
  "kernelspec": {
   "display_name": "ds12_ipy",
   "language": "python",
   "name": "ds12"
  },
  "language_info": {
   "codemirror_mode": {
    "name": "ipython",
    "version": 3
   },
   "file_extension": ".py",
   "mimetype": "text/x-python",
   "name": "python",
   "nbconvert_exporter": "python",
   "pygments_lexer": "ipython3",
   "version": "3.12.9"
  },
  "widgets": {
   "application/vnd.jupyter.widget-state+json": {
    "state": {},
    "version_major": 2,
    "version_minor": 0
   }
  }
 },
 "nbformat": 4,
 "nbformat_minor": 5
}
