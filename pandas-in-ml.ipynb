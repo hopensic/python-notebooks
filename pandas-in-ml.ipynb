{
 "cells": [
  {
   "cell_type": "markdown",
   "metadata": {},
   "source": [
    "# 1. pandas的基本用法"
   ]
  },
  {
   "cell_type": "code",
   "execution_count": 37,
   "metadata": {},
   "outputs": [],
   "source": [
    "import pandas as pd\n",
    "import numpy as np\n",
    "from sklearn.preprocessing import OneHotEncoder\n",
    "\n",
    "from sklearn.model_selection import train_test_split\n",
    "# from sklearn.metrics import mean_absolute_error"
   ]
  },
  {
   "cell_type": "code",
   "execution_count": null,
   "metadata": {},
   "outputs": [],
   "source": [
    "# 读取csv文件\n",
    "melbourne_file_path = 'data_raw/melb_data.csv'\n",
    "melbourne_data = pd.read_csv(melbourne_file_path)\n",
    "\n",
    "# 显示前5行读取的文件\n",
    "melbourne_data.head()\n",
    "# 数据文件的概括信息，主要通过(count, std, min, 25%, 50, 75, max)这8个字段来显示\n",
    "melbourne_data.describe()\n",
    "\n",
    "# 获取所有的列名\n",
    "melbourne_data.columns\n",
    "# 获取某一列的所有值\n",
    "y = melbourne_data.Price\n",
    "\n",
    "# 根据部分列名，获取这些列的所有值\n",
    "melbourne_features = [\n",
    "    'Rooms', 'Bathroom', 'Landsize', 'Lattitude', 'Longtitude'\n",
    "]\n",
    "X = melbourne_data[melbourne_features]\n",
    "X.head()\n",
    "\n",
    "# 将数据分割成训练集和测试集\n",
    "train_X, val_X, train_y, val_y = train_test_split(X, y, random_state=1)\n",
    "# 计算MAE\n",
    "# val_mae = mean_absolute_error(val_y,val_predictions)\n",
    "\n",
    "# 向pd中写入数据，输出到csv\n",
    "# Save predictions in format used for competition scoring\n",
    "# output = pd.DataFrame({'Id': X_test.index,\n",
    "#                        'SalePrice': preds_test})\n",
    "# output.to_csv('submission.csv', index=False)"
   ]
  },
  {
   "cell_type": "markdown",
   "metadata": {},
   "source": [
    "# 2.Pandas进阶用法"
   ]
  },
  {
   "cell_type": "code",
   "execution_count": 64,
   "metadata": {},
   "outputs": [
    {
     "data": {
      "text/plain": [
       "(1460, 99)"
      ]
     },
     "execution_count": 64,
     "metadata": {},
     "output_type": "execute_result"
    }
   ],
   "source": [
    "# 数据集的复制\n",
    "#X_full = X.copy()\n",
    "\n",
    "X_full = pd.read_csv('data_raw/train.csv', index_col='Id')\n",
    "X_test_full = pd.read_csv('data_raw/test.csv', index_col='Id')\n",
    "# features= ['LotArea', 'YearBuilt', '1stFlrSF','2ndFlrSF','Fireplaces',\n",
    "#            'OverallQual','OverallCond','MSSubClass','GrLivArea','LowQualFinSF']\n",
    "\n",
    "# X = X_full[features].copy()\n",
    "# y = X_full.SalePrice\n",
    "# X_test = X_test_full[features].copy()\n",
    "# X_train, X_valid, y_train, y_valid = train_test_split(X, y, train_size=0.8, test_size=0.2,\n",
    "#                                                       random_state=0)\n",
    "\n",
    "# 获取字段值中有空的那些列\n",
    "cols_with_missing = [\n",
    "    col for col in X_full.columns if X_full[col].isnull().any()\n",
    "]\n",
    "# 删除那些字段值中有空的那些列\n",
    "reduced_X = X_full.drop(cols_with_missing, axis=1)\n",
    "\n",
    "# 增加字段\n",
    "for col in cols_with_missing:\n",
    "    X_full[col + '_was_missing'] = X_full[col].isnull()\n",
    "\n",
    "# 统计df中每一列中，空的记录条数\n",
    "missing_val_count_by_column = X_full.isnull().sum()\n",
    "# 统计df中，那些列中空值的行数\n",
    "# missing_val_count_by_column[missing_val_count_by_column>0]\n",
    "\n",
    "# 选中字段类型是字符串的字段\n",
    "s = (X_full.dtypes == 'object')\n",
    "object_cols = list(s[s].index)\n",
    "\n",
    "# 将数据集中字段类型是字符串的过滤掉\n",
    "drop_str_X = X_full.select_dtypes(exclude=['object'])"
   ]
  },
  {
   "cell_type": "code",
   "execution_count": 101,
   "metadata": {},
   "outputs": [
    {
     "name": "stdout",
     "output_type": "stream",
     "text": [
      "[0 1 2]\n",
      "[0 1 2]\n"
     ]
    }
   ],
   "source": [
    "\n",
    "df = pd.DataFrame(\n",
    "    dict(age=[5, 6, np.NaN],\n",
    "         born=[pd.NaT,\n",
    "               pd.Timestamp('1939-05-27'),\n",
    "               pd.Timestamp('1940-04-25')],\n",
    "         name=['Alfred1', 'Alfred', 'Alfred'],\n",
    "         toy=['Joker', 'Joker2', 'Joker1']))\n",
    "s = (df.dtypes == 'object')\n",
    "object_cols = list(s[s].index)\n",
    "\n",
    "OH_encoder = OneHotEncoder(handle_unknown='ignore', sparse=False)\n",
    "OH_cols_train = pd.DataFrame(OH_encoder.fit_transform(df[object_cols]))\n",
    "\n",
    "print(OH_cols_train.index.values)\n",
    "print(df.index.values)\n",
    "# print(type(OH_cols_train.index))\n",
    "\n",
    "OH_cols_train.index = df.index"
   ]
  }
 ],
 "metadata": {
  "kernelspec": {
   "display_name": "Python 3 (ipykernel)",
   "language": "python",
   "name": "python3"
  },
  "language_info": {
   "codemirror_mode": {
    "name": "ipython",
    "version": 3
   },
   "file_extension": ".py",
   "mimetype": "text/x-python",
   "name": "python",
   "nbconvert_exporter": "python",
   "pygments_lexer": "ipython3",
   "version": "3.12.7"
  }
 },
 "nbformat": 4,
 "nbformat_minor": 4
}
