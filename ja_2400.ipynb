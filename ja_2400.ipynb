{
 "cells": [
  {
   "cell_type": "code",
   "execution_count": 54,
   "id": "ae61c891-bf09-4330-8b6a-68b8a51a9c31",
   "metadata": {},
   "outputs": [
    {
     "name": "stdout",
     "output_type": "stream",
     "text": [
      "Import common module\n"
     ]
    }
   ],
   "source": [
    "import notebook_common\n",
    "from importlib import reload\n",
    "\n",
    "reload(notebook_common)\n",
    "from notebook_common import (\n",
    "    # ------------------function------------------\n",
    "    read_excel,\n",
    "    to_csv_sig,\n",
    "    # ------------------2400 word------------------\n",
    "    r_word_2400_xlsx,\n",
    "    w_word_2400_csv,\n",
    "    w_word_2400_with_guide_csv,\n",
    "    w_word_2400_without_guide_csv,\n",
    "    # ------------------书面语相关------------------\n",
    "    # 解析书面语正则\n",
    "    # pattern_table_written,\n",
    "    # pattern_td_written,\n",
    "    # r_written_freq_nlt_with_enter_txt,\n",
    "    # w_written_freq_nlt_with_enter_csv,\n",
    "    # w_written_freq_nlt_sumed_csv,\n",
    "    # ------------------口语相关------------------\n",
    "    # 解析口头语正则\n",
    "    # pattern_table_spoken,\n",
    "    # pattern_td_spoken,\n",
    "    # r_spoken_freq_nlb_with_enter_txt,\n",
    "    # w_spoken_freq_nlb_with_enter_csv,\n",
    "    # w_spoken_freq_nlb_with_enter_filtered_csv,\n",
    "    # w_spoken_freq_nlb_with_enter_filtered_hrt_csv,\n",
    "    # w_spoken_freq_nlb_sumed_csv,\n",
    "    # ------------------合并书面语和口语词频------------------\n",
    "    # w_merged_freq_sumed_csv,\n",
    "    # ------------------公共python库------------------\n",
    "    pd,\n",
    "    np,\n",
    "    p,\n",
    ")\n",
    "\n",
    "p(\"Import common module\")"
   ]
  },
  {
   "cell_type": "code",
   "execution_count": 55,
   "id": "16ff6668-7bd5-4fcb-9cb0-bae9e88a9786",
   "metadata": {},
   "outputs": [
    {
     "data": {
      "text/html": [
       "<div>\n",
       "<style scoped>\n",
       "    .dataframe tbody tr th:only-of-type {\n",
       "        vertical-align: middle;\n",
       "    }\n",
       "\n",
       "    .dataframe tbody tr th {\n",
       "        vertical-align: top;\n",
       "    }\n",
       "\n",
       "    .dataframe thead th {\n",
       "        text-align: right;\n",
       "    }\n",
       "</style>\n",
       "<table border=\"1\" class=\"dataframe\">\n",
       "  <thead>\n",
       "    <tr style=\"text-align: right;\">\n",
       "      <th></th>\n",
       "      <th>no</th>\n",
       "      <th>word</th>\n",
       "      <th>chinese</th>\n",
       "      <th>property</th>\n",
       "      <th>meaning</th>\n",
       "    </tr>\n",
       "  </thead>\n",
       "  <tbody>\n",
       "    <tr>\n",
       "      <th>0</th>\n",
       "      <td>1</td>\n",
       "      <td>ああ</td>\n",
       "      <td>NaN</td>\n",
       "      <td>感</td>\n",
       "      <td>啊，嗯；啊呀，唉。</td>\n",
       "    </tr>\n",
       "    <tr>\n",
       "      <th>1</th>\n",
       "      <td>2</td>\n",
       "      <td>あい</td>\n",
       "      <td>愛</td>\n",
       "      <td>名・动３他</td>\n",
       "      <td>爱情；爱好。</td>\n",
       "    </tr>\n",
       "    <tr>\n",
       "      <th>2</th>\n",
       "      <td>3</td>\n",
       "      <td>あいさつ</td>\n",
       "      <td>NaN</td>\n",
       "      <td>名・动３自</td>\n",
       "      <td>寒暄；致辞。</td>\n",
       "    </tr>\n",
       "    <tr>\n",
       "      <th>3</th>\n",
       "      <td>4</td>\n",
       "      <td>あいず</td>\n",
       "      <td>合図</td>\n",
       "      <td>名</td>\n",
       "      <td>信号。</td>\n",
       "    </tr>\n",
       "    <tr>\n",
       "      <th>4</th>\n",
       "      <td>5</td>\n",
       "      <td>アイスクリーム</td>\n",
       "      <td>NaN</td>\n",
       "      <td>名</td>\n",
       "      <td>冰激凌；雪糕。</td>\n",
       "    </tr>\n",
       "    <tr>\n",
       "      <th>...</th>\n",
       "      <td>...</td>\n",
       "      <td>...</td>\n",
       "      <td>...</td>\n",
       "      <td>...</td>\n",
       "      <td>...</td>\n",
       "    </tr>\n",
       "    <tr>\n",
       "      <th>2457</th>\n",
       "      <td>2415</td>\n",
       "      <td>わる</td>\n",
       "      <td>割る</td>\n",
       "      <td>动1他</td>\n",
       "      <td>切,割;把一物分成几部分;除</td>\n",
       "    </tr>\n",
       "    <tr>\n",
       "      <th>2458</th>\n",
       "      <td>2416</td>\n",
       "      <td>わるい</td>\n",
       "      <td>悪い</td>\n",
       "      <td>形1</td>\n",
       "      <td>坏;恶性;不对,错误</td>\n",
       "    </tr>\n",
       "    <tr>\n",
       "      <th>2459</th>\n",
       "      <td>2417</td>\n",
       "      <td>われる</td>\n",
       "      <td>割れる</td>\n",
       "      <td>动2自</td>\n",
       "      <td>破碎;裂开</td>\n",
       "    </tr>\n",
       "    <tr>\n",
       "      <th>2460</th>\n",
       "      <td>2418</td>\n",
       "      <td>われわれ</td>\n",
       "      <td>我々</td>\n",
       "      <td>名</td>\n",
       "      <td>我们,咱们,我等</td>\n",
       "    </tr>\n",
       "    <tr>\n",
       "      <th>2461</th>\n",
       "      <td>2419</td>\n",
       "      <td>ワンピース</td>\n",
       "      <td>NaN</td>\n",
       "      <td>名</td>\n",
       "      <td>连衣裙</td>\n",
       "    </tr>\n",
       "  </tbody>\n",
       "</table>\n",
       "<p>2462 rows × 5 columns</p>\n",
       "</div>"
      ],
      "text/plain": [
       "        no     word chinese property         meaning\n",
       "0        1       ああ     NaN        感       啊，嗯；啊呀，唉。\n",
       "1        2       あい       愛    名・动３他          爱情；爱好。\n",
       "2        3     あいさつ     NaN    名・动３自          寒暄；致辞。\n",
       "3        4      あいず      合図        名             信号。\n",
       "4        5  アイスクリーム     NaN        名         冰激凌；雪糕。\n",
       "...    ...      ...     ...      ...             ...\n",
       "2457  2415       わる      割る      动1他  切,割;把一物分成几部分;除\n",
       "2458  2416      わるい      悪い       形1      坏;恶性;不对,错误\n",
       "2459  2417      われる     割れる      动2自           破碎;裂开\n",
       "2460  2418     われわれ      我々        名        我们,咱们,我等\n",
       "2461  2419    ワンピース     NaN        名             连衣裙\n",
       "\n",
       "[2462 rows x 5 columns]"
      ]
     },
     "execution_count": 55,
     "metadata": {},
     "output_type": "execute_result"
    }
   ],
   "source": [
    "# 读取原始2400词汇Excel\n",
    "sheet_name = \"ja\"\n",
    "df = read_excel(r_word_2400_xlsx, sheet_name)\n",
    "df"
   ]
  },
  {
   "cell_type": "code",
   "execution_count": 56,
   "id": "4487b9b2-2f6e-4fd4-959b-8f896f76b7ce",
   "metadata": {},
   "outputs": [
    {
     "data": {
      "text/html": [
       "<div>\n",
       "<style scoped>\n",
       "    .dataframe tbody tr th:only-of-type {\n",
       "        vertical-align: middle;\n",
       "    }\n",
       "\n",
       "    .dataframe tbody tr th {\n",
       "        vertical-align: top;\n",
       "    }\n",
       "\n",
       "    .dataframe thead th {\n",
       "        text-align: right;\n",
       "    }\n",
       "</style>\n",
       "<table border=\"1\" class=\"dataframe\">\n",
       "  <thead>\n",
       "    <tr style=\"text-align: right;\">\n",
       "      <th></th>\n",
       "      <th>no</th>\n",
       "      <th>word</th>\n",
       "      <th>chinese</th>\n",
       "      <th>property</th>\n",
       "      <th>meaning</th>\n",
       "    </tr>\n",
       "  </thead>\n",
       "  <tbody>\n",
       "    <tr>\n",
       "      <th>count</th>\n",
       "      <td>2462</td>\n",
       "      <td>2419</td>\n",
       "      <td>1865</td>\n",
       "      <td>2418</td>\n",
       "      <td>2415</td>\n",
       "    </tr>\n",
       "    <tr>\n",
       "      <th>unique</th>\n",
       "      <td>2462</td>\n",
       "      <td>2292</td>\n",
       "      <td>1852</td>\n",
       "      <td>112</td>\n",
       "      <td>2330</td>\n",
       "    </tr>\n",
       "    <tr>\n",
       "      <th>top</th>\n",
       "      <td>2419</td>\n",
       "      <td>さす</td>\n",
       "      <td>空</td>\n",
       "      <td>名</td>\n",
       "      <td>父亲</td>\n",
       "    </tr>\n",
       "    <tr>\n",
       "      <th>freq</th>\n",
       "      <td>1</td>\n",
       "      <td>3</td>\n",
       "      <td>2</td>\n",
       "      <td>1174</td>\n",
       "      <td>3</td>\n",
       "    </tr>\n",
       "  </tbody>\n",
       "</table>\n",
       "</div>"
      ],
      "text/plain": [
       "          no  word chinese property meaning\n",
       "count   2462  2419    1865     2418    2415\n",
       "unique  2462  2292    1852      112    2330\n",
       "top     2419    さす       空        名      父亲\n",
       "freq       1     3       2     1174       3"
      ]
     },
     "execution_count": 56,
     "metadata": {},
     "output_type": "execute_result"
    }
   ],
   "source": [
    "df.describe()"
   ]
  },
  {
   "cell_type": "code",
   "execution_count": 57,
   "id": "ed411c90-964a-4199-94c3-7109628b2c8b",
   "metadata": {},
   "outputs": [
    {
     "name": "stdout",
     "output_type": "stream",
     "text": [
      "w_word_2400_csv--ok\n"
     ]
    }
   ],
   "source": [
    "# 导出到csv 初始csv\n",
    "to_csv_sig(df, w_word_2400_csv)\n",
    "p(\"w_word_2400_csv--ok\")"
   ]
  },
  {
   "cell_type": "code",
   "execution_count": 58,
   "id": "59bb342f-e845-41a9-a099-8a2af91dcf20",
   "metadata": {},
   "outputs": [
    {
     "name": "stdout",
     "output_type": "stream",
     "text": [
      "w_word_2400_with_guide_csv--ok\n"
     ]
    }
   ],
   "source": [
    "# 1.查看原始文档中的单行目录行\n",
    "# 2.导出所有的单行目录行\n",
    "mask = (\n",
    "    df[\"word\"].isnull()\n",
    "    & df[\"chinese\"].isnull()\n",
    "    & df[\"property\"].isnull()\n",
    "    & df[\"meaning\"].isnull()\n",
    ")\n",
    "df_w_word_2400_with_guide_csv = df[mask].copy()\n",
    "to_csv_sig(df_w_word_2400_with_guide_csv, w_word_2400_with_guide_csv)\n",
    "p(\"w_word_2400_with_guide_csv--ok\")"
   ]
  },
  {
   "cell_type": "code",
   "execution_count": 59,
   "id": "555be985-14ee-4394-a107-9a6323ff55b8",
   "metadata": {},
   "outputs": [
    {
     "name": "stdout",
     "output_type": "stream",
     "text": [
      "w_word_2400_with_guide_csv--ok\n"
     ]
    }
   ],
   "source": [
    "# 1.查看原始文档中的单行目录行\n",
    "# 2.导出所有的条目，去掉单行目录行\n",
    "mask = (\n",
    "    df[\"word\"].isnull()\n",
    "    & df[\"chinese\"].isnull()\n",
    "    & df[\"property\"].isnull()\n",
    "    & df[\"meaning\"].isnull()\n",
    ")\n",
    "df[\"new_chinese\"] = df.apply(\n",
    "    lambda x: x[\"word\"] if pd.isnull(x[\"chinese\"]) else x[\"chinese\"], axis=1\n",
    ")\n",
    "df_w_word_2400_without_guide_csv = df[~mask].copy()\n",
    "\n",
    "# 将次数映射到新列\n",
    "# df_w_word_2400_without_guide_csv[\"new_chinese_count\"] = df_w_word_2400_without_guide_csv.groupby(\n",
    "#     [\"new_chinese\"]\n",
    "# ).transform(\"size\")\n",
    "\n",
    "# 查看word重复的次数\n",
    "df_w_word_2400_without_guide_csv[\n",
    "    \"word_repetition\"\n",
    "] = df_w_word_2400_without_guide_csv.groupby([\"word\"]).transform(\"size\")\n",
    "\n",
    "\n",
    "to_csv_sig(df_w_word_2400_without_guide_csv, w_word_2400_without_guide_csv)\n",
    "p(\"w_word_2400_with_guide_csv--ok\")"
   ]
  }
 ],
 "metadata": {
  "kernelspec": {
   "display_name": "ds12_ipy",
   "language": "python",
   "name": "ds12"
  },
  "language_info": {
   "codemirror_mode": {
    "name": "ipython",
    "version": 3
   },
   "file_extension": ".py",
   "mimetype": "text/x-python",
   "name": "python",
   "nbconvert_exporter": "python",
   "pygments_lexer": "ipython3",
   "version": "3.12.9"
  },
  "widgets": {
   "application/vnd.jupyter.widget-state+json": {
    "state": {},
    "version_major": 2,
    "version_minor": 0
   }
  }
 },
 "nbformat": 4,
 "nbformat_minor": 5
}
