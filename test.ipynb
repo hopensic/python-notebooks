{
 "cells": [
  {
   "cell_type": "code",
   "execution_count": 3,
   "metadata": {},
   "outputs": [],
   "source": [
    "import pandas as pd\n",
    "import numpy as np\n",
    "from sklearn.model_selection import KFold\n",
    "from sklearn.impute import SimpleImputer"
   ]
  },
  {
   "cell_type": "code",
   "execution_count": null,
   "metadata": {},
   "outputs": [],
   "source": [
    "df = pd.DataFrame({\n",
    "    #     \"name\": ['Alfred', 'Batman', 'Catwoman','oliver'],\n",
    "    #                    \"toy\": [np.nan, 'Batmobile', 'Bullwhip','变形金刚'],\n",
    "    #                    \"born\": [pd.NaT, pd.Timestamp(\"1940-04-25\"),pd.NaT,pd.Timestamp(\"1940-04-25\")],\n",
    "    #                    \"sex\": ['m', 'f', 'm','f'],\n",
    "    \"height\": [174, 160, 151, np.nan],\n",
    "    \"high-pressure\": [130, 120, 121, 140],\n",
    "    \"age\": [16, 32, np.nan, 44]\n",
    "})\n",
    "# df.dropna(axis=0,inplace=True)\n",
    "\n",
    "cols_with_missing = [col for col in df.columns if df[col].isnull().any()]\n",
    "\n",
    "print(\"cols_with_missing\")\n",
    "print(cols_with_missing)\n",
    "\n",
    "reduced_df = df.drop(cols_with_missing, axis=1)\n",
    "print('---------------------------------------------------------')\n",
    "print('reduced_df:')\n",
    "print(reduced_df)\n",
    "print('---------------------------------------------------------')\n",
    "my_imputer = SimpleImputer()\n",
    "imputed_df = pd.DataFrame(my_imputer.fit_transform(df))\n",
    "print('imputed_df:')\n",
    "print(imputed_df)\n",
    "print('---------------------------------------------------------')\n",
    "print(\"df.columns:\")\n",
    "print(df.columns)\n",
    "print('---------------------------------------------------------')\n",
    "imputed_df.columns = df.columns\n",
    "print('imputed_df:')\n",
    "print(imputed_df)\n",
    "print('---------------------------------------------------------')\n",
    "\n",
    "print('df_plus:')\n",
    "df_plus = df.copy()\n",
    "print(df_plus)\n",
    "print('---------------------------------------------------------')\n",
    "for col in cols_with_missing:\n",
    "    df_plus[col + '_was_missing'] = df_plus[col].isnull()\n",
    "print('df_plus:')\n",
    "print(df_plus)\n",
    "print('---------------------------------------------------------')\n",
    "\n",
    "df.dropna(axis=0, subset=['age'], inplace=True)\n",
    "df"
   ]
  },
  {
   "cell_type": "code",
   "execution_count": null,
   "metadata": {},
   "outputs": [],
   "source": [
    "df = pd.DataFrame({\n",
    "    \"name\": ['Alfred', 'Batman', 'Catwoman', 'oliver'],\n",
    "    \"toy\": [np.nan, 'Batmobile', 'Bullwhip', '变形金刚'],\n",
    "    \"born\": [\n",
    "        pd.NaT,\n",
    "        pd.Timestamp(\"1940-04-25\"), pd.NaT,\n",
    "        pd.Timestamp(\"1940-04-25\")\n",
    "    ],\n",
    "    \"sex\": ['m', 'f', 'm', 'f'],\n",
    "    \"height\": [174, 160, 151, np.nan],\n",
    "    \"high-pressure\": [130, 120, 121, 140],\n",
    "    \"age\": [16, 32, np.nan, 44]\n",
    "})\n",
    "\n",
    "s = (df.dtypes == 'object')\n",
    "# print(s)\n",
    "\n",
    "object_cols = list(s[s].index)\n",
    "\n",
    "print(df.dtypes)\n",
    "print('-------------------------------')\n",
    "# print(object_cols)\n",
    "print(s[s])\n",
    "print('-------------------------------')\n",
    "print(df)\n",
    "\n",
    "a = pd.Series(\n",
    "    [True, True, False, True, False, False, False],\n",
    "    index=['name', 'toy', 'born', 'sex', 'height', 'high-pressure', 'age'])\n",
    "print(a)\n",
    "print(s[a])\n",
    "print(s[a].index)"
   ]
  },
  {
   "cell_type": "code",
   "execution_count": null,
   "metadata": {},
   "outputs": [],
   "source": [
    "da = {\n",
    "    \"provice\": ['a', 'aa', 'aaa', 'aaaa'],\n",
    "    \"year\": [1999, 2000, 2002, np.nan],\n",
    "    \"pop\": [1.5, 2.2, np.nan, 4.4]\n",
    "}\n",
    "frame = pd.DataFrame(da)\n",
    "cols_with_missing = [col for col in frame.columns if frame[col].isnull().any()]\n",
    "print(cols_with_missing)\n",
    "\n",
    "for col in cols_with_missing:\n",
    "    frame[col + '_was_missing'] = frame[col].isnull()\n",
    "\n",
    "frame"
   ]
  },
  {
   "cell_type": "code",
   "execution_count": null,
   "metadata": {},
   "outputs": [],
   "source": [
    "df1 = pd.DataFrame([[1, 2, 3, 4], [6, 7, 8, 9]],\n",
    "                   columns=['D', 'B', 'E', 'A'],\n",
    "                   index=[1, 2])\n",
    "df2 = pd.DataFrame([[10, 20, 30, 40], [60, 70, 80, 90], [600, 700, 800, 900]],\n",
    "                   columns=['A', 'B', 'C', 'D'],\n",
    "                   index=[2, 3, 4])\n",
    "\n",
    "print(df1)\n",
    "print(df2)"
   ]
  },
  {
   "cell_type": "code",
   "execution_count": null,
   "metadata": {},
   "outputs": [],
   "source": [
    "a1, a2 = df1.align(df2, join='outer', axis=1)\n",
    "print(a1)\n",
    "print(a2)"
   ]
  },
  {
   "cell_type": "code",
   "execution_count": null,
   "metadata": {},
   "outputs": [],
   "source": [
    "a1, a2 = df1.align(df2, join='left', axis=1)\n",
    "print(a1)\n",
    "print(a2)"
   ]
  },
  {
   "cell_type": "code",
   "execution_count": null,
   "metadata": {},
   "outputs": [],
   "source": [
    "df = pd.DataFrame({\n",
    "    'A': ['a', 'b', 'a'],\n",
    "    'B': ['1', 'a', 'c'],\n",
    "    'C': [1, 2, 0],\n",
    "    'D': ['a', 4, 'a']\n",
    "})\n",
    "print(df)\n",
    "print(df.shape)\n",
    "\n",
    "print((df['C'] == 0).mean())"
   ]
  },
  {
   "cell_type": "code",
   "execution_count": null,
   "metadata": {},
   "outputs": [],
   "source": [
    "df2 = pd.DataFrame({\n",
    "    'A': ['a', 'b', 'a'],\n",
    "    'B': ['2', 'a', 'c'],\n",
    "    'C': [1, 2, 1],\n",
    "    'D': ['a', 4, 'a']\n",
    "})\n",
    "print(df2)\n",
    "print(df2.shape)"
   ]
  },
  {
   "cell_type": "code",
   "execution_count": null,
   "metadata": {},
   "outputs": [],
   "source": [
    "dummy = pd.get_dummies(df)\n",
    "print(dummy)\n",
    "print(dummy.shape)\n",
    "print(type(dummy))"
   ]
  },
  {
   "cell_type": "code",
   "execution_count": null,
   "metadata": {},
   "outputs": [],
   "source": [
    "dummy2 = pd.get_dummies(df2)\n",
    "print(dummy2)\n",
    "print(dummy2.shape)"
   ]
  },
  {
   "cell_type": "code",
   "execution_count": null,
   "metadata": {},
   "outputs": [],
   "source": [
    "t1, t2 = dummy.align(dummy2, join='left', axis=1)\n",
    "print(t1)\n",
    "print(t2)"
   ]
  },
  {
   "cell_type": "code",
   "execution_count": 72,
   "metadata": {},
   "outputs": [
    {
     "name": "stdout",
     "output_type": "stream",
     "text": [
      "   expenditure   card  c\n",
      "0            0  False  2\n",
      "1            3  False  4\n",
      "2            4   True  5\n",
      "3            0   True  3\n",
      "4            0   True  3\n",
      "\n",
      "2    4\n",
      "3    0\n",
      "4    0\n",
      "Name: expenditure, dtype: int64\n",
      "0    0\n",
      "1    3\n",
      "Name: expenditure, dtype: int64\n",
      "\n",
      "2    False\n",
      "3     True\n",
      "4     True\n",
      "Name: expenditure, dtype: bool\n",
      "0     True\n",
      "1    False\n",
      "Name: expenditure, dtype: bool\n",
      "\n",
      "<class 'pandas.core.series.Series'>\n"
     ]
    }
   ],
   "source": [
    "from io import StringIO\n",
    "\n",
    "data = ('expenditure,card,c\\n0,No,2\\n3,No,4\\n4,Yes,5\\n0,Yes,3\\n0,Yes,3')\n",
    "df = pd.read_csv(StringIO(data), true_values=['Yes'], false_values=['No'])\n",
    "print(df)\n",
    "print()\n",
    "y = df.card\n",
    "expenditures_cardholders = df.expenditure[y]\n",
    "expenditures_noncardholders = df.expenditure[~y]\n",
    "\n",
    "print(expenditures_cardholders)\n",
    "print(expenditures_noncardholders)\n",
    "print()\n",
    "print((expenditures_cardholders == 0))\n",
    "print((expenditures_noncardholders == 0))\n",
    "print()\n",
    "print(type(expenditures_cardholders == 0))"
   ]
  },
  {
   "cell_type": "code",
   "execution_count": 78,
   "metadata": {},
   "outputs": [
    {
     "data": {
      "text/plain": [
       "0.16666666666666666"
      ]
     },
     "execution_count": 78,
     "metadata": {},
     "output_type": "execute_result"
    }
   ],
   "source": [
    "sr = pd.Series([10, 25, 3, 25, 24, 6])\n",
    "(sr == 3).mean()"
   ]
  },
  {
   "cell_type": "code",
   "execution_count": 10,
   "metadata": {},
   "outputs": [
    {
     "name": "stdout",
     "output_type": "stream",
     "text": [
      "KFold(n_splits=2, random_state=None, shuffle=False)\n"
     ]
    }
   ],
   "source": [
    "X = np.array([[1, 2], [3, 4], [1, 2], [3, 4]])\n",
    "y = np.array([1, 2, 3, 4])\n",
    "kf = KFold(n_splits=2)\n",
    "kf.get_n_splits(X)\n",
    "print(kf)"
   ]
  },
  {
   "cell_type": "code",
   "execution_count": null,
   "metadata": {},
   "outputs": [],
   "source": []
  }
 ],
 "metadata": {
  "kernelspec": {
   "display_name": "Python 3 (ipykernel)",
   "language": "python",
   "name": "python3"
  },
  "language_info": {
   "codemirror_mode": {
    "name": "ipython",
    "version": 3
   },
   "file_extension": ".py",
   "mimetype": "text/x-python",
   "name": "python",
   "nbconvert_exporter": "python",
   "pygments_lexer": "ipython3",
   "version": "3.12.7"
  }
 },
 "nbformat": 4,
 "nbformat_minor": 4
}
