{
 "cells": [
  {
   "cell_type": "code",
   "execution_count": 22,
   "id": "8081b668-c4ff-44db-92c0-dc76adb5c14f",
   "metadata": {},
   "outputs": [],
   "source": [
    "import os"
   ]
  },
  {
   "cell_type": "code",
   "execution_count": 24,
   "id": "b9a2a2bb-9661-4ba1-8bab-789a872413e8",
   "metadata": {},
   "outputs": [
    {
     "name": "stdout",
     "output_type": "stream",
     "text": [
      "123\n",
      "32343244\n"
     ]
    }
   ],
   "source": [
    "if os.path.exists(\"d:\") is not None:\n",
    "    print(123)\n",
    "\n",
    "\n",
    "print(32343244)"
   ]
  },
  {
   "cell_type": "code",
   "execution_count": 13,
   "id": "8e241149-25d4-41ce-a650-c04b02c3b343",
   "metadata": {},
   "outputs": [
    {
     "name": "stdout",
     "output_type": "stream",
     "text": [
      "123\n",
      "9\n"
     ]
    }
   ],
   "source": [
    "print(123)\n",
    "\n",
    "\n",
    "def r(r):\n",
    "    return r * r\n",
    "\n",
    "\n",
    "d = r(3)\n",
    "print(d)"
   ]
  }
 ],
 "metadata": {
  "kernelspec": {
   "display_name": "Python 3 (ipykernel)",
   "language": "python",
   "name": "python3"
  },
  "language_info": {
   "codemirror_mode": {
    "name": "ipython",
    "version": 3
   },
   "file_extension": ".py",
   "mimetype": "text/x-python",
   "name": "python",
   "nbconvert_exporter": "python",
   "pygments_lexer": "ipython3",
   "version": "3.12.9"
  },
  "widgets": {
   "application/vnd.jupyter.widget-state+json": {
    "state": {},
    "version_major": 2,
    "version_minor": 0
   }
  }
 },
 "nbformat": 4,
 "nbformat_minor": 5
}
