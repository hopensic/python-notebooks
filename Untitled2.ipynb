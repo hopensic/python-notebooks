{
 "cells": [
  {
   "cell_type": "code",
   "execution_count": 1,
   "id": "ae61c891-bf09-4330-8b6a-68b8a51a9c31",
   "metadata": {},
   "outputs": [],
   "source": [
    "import pandas as pd\n",
    "\n",
    "word_2400 = \"D:/05.japanproject/jp/freq/2400.xlsx\"\n",
    "export_2400 = \"D:/05.japanproject/jp/freq/export_2400.csv\"\n",
    "tmp = \"D:/05.japanproject/jp/freq/tmp.csv\""
   ]
  },
  {
   "cell_type": "code",
   "execution_count": 2,
   "id": "16ff6668-7bd5-4fcb-9cb0-bae9e88a9786",
   "metadata": {},
   "outputs": [],
   "source": [
    "df = pd.read_excel(word_2400, sheet_name=\"ja\")"
   ]
  },
  {
   "cell_type": "code",
   "execution_count": 3,
   "id": "ed411c90-964a-4199-94c3-7109628b2c8b",
   "metadata": {},
   "outputs": [
    {
     "name": "stdout",
     "output_type": "stream",
     "text": [
      "ok\n"
     ]
    }
   ],
   "source": [
    "df.to_csv(export_2400, index=False, encoding=\"utf-8-sig\")\n",
    "print(\"ok\")"
   ]
  },
  {
   "cell_type": "code",
   "execution_count": 4,
   "id": "3638641a-92e6-4e6f-847a-7d57965ff491",
   "metadata": {},
   "outputs": [
    {
     "data": {
      "text/html": [
       "<div>\n",
       "<style scoped>\n",
       "    .dataframe tbody tr th:only-of-type {\n",
       "        vertical-align: middle;\n",
       "    }\n",
       "\n",
       "    .dataframe tbody tr th {\n",
       "        vertical-align: top;\n",
       "    }\n",
       "\n",
       "    .dataframe thead th {\n",
       "        text-align: right;\n",
       "    }\n",
       "</style>\n",
       "<table border=\"1\" class=\"dataframe\">\n",
       "  <thead>\n",
       "    <tr style=\"text-align: right;\">\n",
       "      <th></th>\n",
       "      <th>no</th>\n",
       "      <th>word</th>\n",
       "      <th>chinese</th>\n",
       "      <th>property</th>\n",
       "      <th>meaning</th>\n",
       "    </tr>\n",
       "  </thead>\n",
       "  <tbody>\n",
       "    <tr>\n",
       "      <th>count</th>\n",
       "      <td>2462</td>\n",
       "      <td>2419</td>\n",
       "      <td>1865</td>\n",
       "      <td>2418</td>\n",
       "      <td>2415</td>\n",
       "    </tr>\n",
       "    <tr>\n",
       "      <th>unique</th>\n",
       "      <td>2462</td>\n",
       "      <td>2292</td>\n",
       "      <td>1852</td>\n",
       "      <td>112</td>\n",
       "      <td>2330</td>\n",
       "    </tr>\n",
       "    <tr>\n",
       "      <th>top</th>\n",
       "      <td>2419</td>\n",
       "      <td>さす</td>\n",
       "      <td>空</td>\n",
       "      <td>名</td>\n",
       "      <td>父亲</td>\n",
       "    </tr>\n",
       "    <tr>\n",
       "      <th>freq</th>\n",
       "      <td>1</td>\n",
       "      <td>3</td>\n",
       "      <td>2</td>\n",
       "      <td>1174</td>\n",
       "      <td>3</td>\n",
       "    </tr>\n",
       "  </tbody>\n",
       "</table>\n",
       "</div>"
      ],
      "text/plain": [
       "          no  word chinese property meaning\n",
       "count   2462  2419    1865     2418    2415\n",
       "unique  2462  2292    1852      112    2330\n",
       "top     2419    さす       空        名      父亲\n",
       "freq       1     3       2     1174       3"
      ]
     },
     "execution_count": 4,
     "metadata": {},
     "output_type": "execute_result"
    }
   ],
   "source": [
    "df.describe()"
   ]
  },
  {
   "cell_type": "code",
   "execution_count": 8,
   "id": "36ed98ff-1cc1-4c7a-95e7-6ecdc271b22c",
   "metadata": {},
   "outputs": [
    {
     "name": "stdout",
     "output_type": "stream",
     "text": [
      "ok\n"
     ]
    }
   ],
   "source": [
    "mask = (\n",
    "    df[\"word\"].isnull()\n",
    "    & df[\"chinese\"].isnull()\n",
    "    & df[\"property\"].isnull()\n",
    "    & df[\"meaning\"].isnull()\n",
    ")\n",
    "df = df[mask].copy()\n",
    "df.to_csv(tmp, index=False, encoding=\"utf-8-sig\")\n",
    "print(\"ok\")"
   ]
  },
  {
   "cell_type": "code",
   "execution_count": null,
   "id": "2a61ae7d-cb96-412b-a67d-2fac8c7d05c9",
   "metadata": {},
   "outputs": [],
   "source": []
  }
 ],
 "metadata": {
  "kernelspec": {
   "display_name": "ds12_ipy",
   "language": "python",
   "name": "ds12"
  },
  "language_info": {
   "codemirror_mode": {
    "name": "ipython",
    "version": 3
   },
   "file_extension": ".py",
   "mimetype": "text/x-python",
   "name": "python",
   "nbconvert_exporter": "python",
   "pygments_lexer": "ipython3",
   "version": "3.12.9"
  },
  "widgets": {
   "application/vnd.jupyter.widget-state+json": {
    "state": {},
    "version_major": 2,
    "version_minor": 0
   }
  }
 },
 "nbformat": 4,
 "nbformat_minor": 5
}
