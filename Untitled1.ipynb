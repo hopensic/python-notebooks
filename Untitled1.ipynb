{
 "cells": [
  {
   "cell_type": "code",
   "execution_count": 26,
   "id": "35995cb9-2edb-41b5-ba6e-a0b21b8622cb",
   "metadata": {},
   "outputs": [
    {
     "name": "stdout",
     "output_type": "stream",
     "text": [
      "D:/Dropbox/06.wanjuan/02.jp/freq/final/r_voice.csv\n",
      "xxxx\n",
      "1\n"
     ]
    }
   ],
   "source": [
    "import jp_util.common_path as cp\n",
    "from importlib import reload\n",
    "reload(cp)\n",
    "\n",
    "\n",
    "print(cp.r_voice_csv)\n",
    "print(cp.aaa)\n",
    "print(cp.x)\n",
    "\n",
    "\n",
    "\n",
    "\n",
    "\n",
    "\n"
   ]
  },
  {
   "cell_type": "code",
   "execution_count": null,
   "id": "5ee8f4bd-3e80-4327-a3f0-3108568f6353",
   "metadata": {},
   "outputs": [],
   "source": []
  }
 ],
 "metadata": {
  "kernelspec": {
   "display_name": "ds12_ipy",
   "language": "python",
   "name": "ds12"
  },
  "language_info": {
   "codemirror_mode": {
    "name": "ipython",
    "version": 3
   },
   "file_extension": ".py",
   "mimetype": "text/x-python",
   "name": "python",
   "nbconvert_exporter": "python",
   "pygments_lexer": "ipython3",
   "version": "3.12.3"
  },
  "widgets": {
   "application/vnd.jupyter.widget-state+json": {
    "state": {},
    "version_major": 2,
    "version_minor": 0
   }
  }
 },
 "nbformat": 4,
 "nbformat_minor": 5
}
