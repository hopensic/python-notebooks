{
 "cells": [
  {
   "cell_type": "code",
   "execution_count": 3,
   "id": "73d571cd-fc03-438b-b1b2-e3313799443e",
   "metadata": {},
   "outputs": [],
   "source": [
    "import numpy as np\n",
    "# import matplotlib.pyplot as plt\n",
    "# import pandas as pd\n",
    "\n",
    "my_arr = np.arange(1000000)\n",
    "my_list = list(range(1000000))"
   ]
  },
  {
   "cell_type": "code",
   "execution_count": 4,
   "id": "f4394d06-02cc-4843-8e32-98f2069bf08b",
   "metadata": {},
   "outputs": [
    {
     "name": "stdout",
     "output_type": "stream",
     "text": [
      "CPU times: total: 0 ns\n",
      "Wall time: 12.5 ms\n"
     ]
    }
   ],
   "source": [
    "%time for _ in range(10): my_arr2=my_arr*2"
   ]
  },
  {
   "cell_type": "code",
   "execution_count": 5,
   "id": "4eec7b91-1377-4fa3-bf77-a9d1de287354",
   "metadata": {},
   "outputs": [
    {
     "name": "stdout",
     "output_type": "stream",
     "text": [
      "CPU times: total: 0 ns\n",
      "Wall time: 4.98 ms\n"
     ]
    }
   ],
   "source": [
    "%time for _ in range(10): my_arr2=my_arr*2"
   ]
  },
  {
   "cell_type": "markdown",
   "id": "575458fd-18f1-4745-86ec-7777281eb82f",
   "metadata": {},
   "source": [
    "## 4.1 Numpy ndarry:多维数组对象"
   ]
  },
  {
   "cell_type": "code",
   "execution_count": 8,
   "id": "4f42b97b-ab4a-468e-bbe8-6caee7925e2e",
   "metadata": {},
   "outputs": [],
   "source": [
    "names = np.array(['aaa', 'bb'])\n",
    "names = np.array(['Bob', 'Joe', 'Will', 'Bob', 'Will', 'Joe', 'Joe'])"
   ]
  },
  {
   "cell_type": "code",
   "execution_count": 9,
   "id": "a0b4e408-e369-40f8-a348-c324bc6b8d0e",
   "metadata": {},
   "outputs": [
    {
     "name": "stdout",
     "output_type": "stream",
     "text": [
      "7\n"
     ]
    }
   ],
   "source": [
    "names = np.array(['aaa', 'bb'])\n",
    "a = 3\n",
    "b = 4\n",
    "print(a + b)"
   ]
  },
  {
   "cell_type": "code",
   "execution_count": null,
   "id": "5f1ca739-c80c-4ede-a753-234fd6e46296",
   "metadata": {},
   "outputs": [],
   "source": []
  }
 ],
 "metadata": {
  "kernelspec": {
   "display_name": "i_data_science",
   "language": "python",
   "name": "i_data_science"
  },
  "language_info": {
   "codemirror_mode": {
    "name": "ipython",
    "version": 3
   },
   "file_extension": ".py",
   "mimetype": "text/x-python",
   "name": "python",
   "nbconvert_exporter": "python",
   "pygments_lexer": "ipython3",
   "version": "3.12.7"
  }
 },
 "nbformat": 4,
 "nbformat_minor": 5
}
