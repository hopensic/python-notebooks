{
 "cells": [
  {
   "cell_type": "code",
   "execution_count": 2,
   "id": "899f9c1d-a77f-409f-98ec-abacb1ef4c5e",
   "metadata": {},
   "outputs": [
    {
     "name": "stdout",
     "output_type": "stream",
     "text": [
      "Import common module\n"
     ]
    }
   ],
   "source": [
    "import notebook_common\n",
    "from importlib import reload\n",
    "\n",
    "reload(notebook_common)\n",
    "from notebook_common import (\n",
    "    # ------------------function------------------\n",
    "    # read_excel,\n",
    "    to_csv_sig,\n",
    "    # ------------------2400 word------------------\n",
    "    # r_word_2400_xlsx,\n",
    "    # w_word_2400_csv,\n",
    "    # w_word_2400_with_guide_csv,\n",
    "    w_word_2400_without_guide_csv,\n",
    "    # ------------------书面语相关------------------\n",
    "    # 解析书面语正则\n",
    "    # pattern_table_written,\n",
    "    # pattern_td_written,\n",
    "    # r_written_freq_nlt_with_enter_txt,\n",
    "    # w_written_freq_nlt_with_enter_csv,\n",
    "    w_written_freq_nlt_sumed_csv,\n",
    "    # ------------------口语相关------------------\n",
    "    # 解析口头语正则\n",
    "    # pattern_table_spoken,\n",
    "    # pattern_td_spoken,\n",
    "    # r_spoken_freq_nlb_with_enter_txt,\n",
    "    # w_spoken_freq_nlb_with_enter_csv,\n",
    "    # w_spoken_freq_nlb_with_enter_filtered_csv,\n",
    "    # w_spoken_freq_nlb_with_enter_filtered_hrt_csv,\n",
    "    w_spoken_freq_nlb_sumed_csv,\n",
    "    # ------------------合并书面语和口语词频------------------\n",
    "    w_merged_freq_sumed_csv,\n",
    "    # ------------------公共python库------------------\n",
    "    pd,\n",
    "    np,\n",
    "    p,\n",
    ")\n",
    "\n",
    "p(\"Import common module\")"
   ]
  },
  {
   "cell_type": "code",
   "execution_count": null,
   "id": "993ccaa3-463d-4dfc-b853-94560176acb6",
   "metadata": {},
   "outputs": [],
   "source": [
    "checkup_2400_excel= 'C:/Users/Administrator/Desktop/checkup_2400.xlsx'\n",
    "\n",
    "\n",
    "\n"
   ]
  }
 ],
 "metadata": {
  "kernelspec": {
   "display_name": "ds12_ipy",
   "language": "python",
   "name": "ds12"
  },
  "language_info": {
   "codemirror_mode": {
    "name": "ipython",
    "version": 3
   },
   "file_extension": ".py",
   "mimetype": "text/x-python",
   "name": "python",
   "nbconvert_exporter": "python",
   "pygments_lexer": "ipython3",
   "version": "3.12.9"
  },
  "widgets": {
   "application/vnd.jupyter.widget-state+json": {
    "state": {},
    "version_major": 2,
    "version_minor": 0
   }
  }
 },
 "nbformat": 4,
 "nbformat_minor": 5
}
