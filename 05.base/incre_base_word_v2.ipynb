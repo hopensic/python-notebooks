{
 "cells": [
  {
   "cell_type": "code",
   "execution_count": 12,
   "id": "2ed088d0-c41e-43db-bdd8-e3707775df2c",
   "metadata": {},
   "outputs": [
    {
     "name": "stdout",
     "output_type": "stream",
     "text": [
      "Import common module\n"
     ]
    }
   ],
   "source": [
    "import sys\n",
    "import os\n",
    "import pickle\n",
    "\n",
    "# 获取当前 Notebook 所在目录的上层目录\n",
    "upper_dir = os.path.abspath(os.path.join(os.getcwd(), '..'))\n",
    "# 将上层目录添加到 sys.path\n",
    "sys.path.append(upper_dir)\n",
    "\n",
    "# 导入上层目录中的 Python 文件（假设文件名为 module.py）\n",
    "import notebook_common\n",
    "\n",
    "\n",
    "import jaconv\n",
    "import cutlet\n",
    "\n",
    "\n",
    "from importlib import reload\n",
    "\n",
    "reload(notebook_common)\n",
    "from notebook_common import (\n",
    "    # ------------------function------------------\n",
    "    # read_excel,\n",
    "    to_csv_sig,\n",
    "    # ------------------2400 word------------------\n",
    "    # r_word_2400_xlsx,\n",
    "    # w_word_2400_csv,\n",
    "    # w_word_2400_with_guide_csv,\n",
    "    w_word_2400_without_guide_csv,\n",
    "    # ------------------书面语相关------------------\n",
    "    # 解析书面语正则\n",
    "    # pattern_table_written,\n",
    "    # pattern_td_written,\n",
    "    # r_written_freq_nlt_with_enter_txt,\n",
    "    # w_written_freq_nlt_with_enter_csv,\n",
    "    w_written_freq_nlt_sumed_csv,\n",
    "    # ------------------口语相关------------------\n",
    "    # 解析口头语正则\n",
    "    # pattern_table_spoken,\n",
    "    # pattern_td_spoken,\n",
    "    # r_spoken_freq_nlb_with_enter_txt,\n",
    "    # w_spoken_freq_nlb_with_enter_csv,\n",
    "    # w_spoken_freq_nlb_with_enter_filtered_csv,\n",
    "    # w_spoken_freq_nlb_with_enter_filtered_hrt_csv,\n",
    "    w_spoken_freq_nlb_sumed_csv,\n",
    "    # ------------------合并书面语和口语词频------------------\n",
    "    w_merged_freq_sumed_csv,\n",
    "    w_raw_merged_freq_sumed_csv,\n",
    "    w_word_raw_merged_freq_sumed_csv,\n",
    "    #---------------------------词义相关---------------------------------\n",
    "    simple_meaning_increase_30000_csv,\n",
    "    w_merged_130000_simple_meaning_csv,\n",
    "\n",
    "\n",
    "    # ------------------公共python库------------------\n",
    "    pd,\n",
    "    np,\n",
    "    p,\n",
    "    l,\n",
    ")\n",
    "\n",
    "p(\"Import common module\")"
   ]
  },
  {
   "cell_type": "code",
   "execution_count": 16,
   "id": "f54edf2e-7e66-45d9-ad5b-1c79802bcf16",
   "metadata": {},
   "outputs": [
    {
     "name": "stdout",
     "output_type": "stream",
     "text": [
      "----------------------------------------ok----------------------------------------\n"
     ]
    }
   ],
   "source": [
    "# 生成df_increased_3000_final_v3\n",
    "df_base_freq = pd.read_csv(\n",
    "    \"D:/Dropbox/06.wanjuan/99.tmp/df_increased_3000_final_v2.csv\",\n",
    "    encoding=\"utf-8-sig\",\n",
    "    on_bad_lines=\"skip\",\n",
    "    engine=\"python\",\n",
    ")\n",
    "\n",
    "# 更新513条精简词义\n",
    "replace_dict = {}\n",
    "try:\n",
    "    with open(\"d:/disturb.txt\", \"r\", encoding=\"utf-8\") as file:\n",
    "        for line in file:\n",
    "            arrays = line.strip().split(\"|\")\n",
    "            replace_dict[int(arrays[0])] = arrays[2]\n",
    "except FileNotFoundError:\n",
    "    print(\"文件不存在\")\n",
    "except IOError:\n",
    "    print(\"读取文件时出错\")\n",
    "\n",
    "\n",
    "df_base_freq[\"simple_meaning\"] = df_base_freq.apply(\n",
    "    lambda row: replace_dict.get(row[\"word_id\"], row[\"simple_meaning\"]), axis=1\n",
    ")\n",
    "\n",
    "\n",
    "to_csv_sig(\n",
    "    df_base_freq,\n",
    "    \"D:/Dropbox/06.wanjuan/99.tmp/df_increased_3000_final_v3.csv\",\n",
    ")\n",
    "l(\"ok\")"
   ]
  },
  {
   "cell_type": "code",
   "execution_count": 3,
   "id": "e5191df2-9dc6-42ce-9353-dcf684925eac",
   "metadata": {},
   "outputs": [],
   "source": [
    "aaa = pd.read_csv(\n",
    "    \"D:/Dropbox/06.wanjuan/99.tmp/df_increased_3000_final_v2.csv\",\n",
    "    encoding=\"utf-8-sig\",\n",
    "    on_bad_lines=\"skip\",\n",
    "    engine=\"python\"\n",
    ")\n",
    "\n",
    "\n",
    "    "
   ]
  },
  {
   "cell_type": "code",
   "execution_count": 10,
   "id": "f14fb2e7-5049-44a2-be12-1d4ee884c238",
   "metadata": {},
   "outputs": [
    {
     "name": "stdout",
     "output_type": "stream",
     "text": [
      "5543   NaN\n",
      "Name: mix_freq, dtype: float64\n",
      "5543      \n",
      "Name: simple_meaning, dtype: object\n"
     ]
    }
   ],
   "source": [
    "print(aaa[aaa['word_id']==213364]['mix_freq'])\n",
    "print(aaa[aaa['word_id']==213364]['simple_meaning'])\n"
   ]
  }
 ],
 "metadata": {
  "kernelspec": {
   "display_name": "ds12_ipy",
   "language": "python",
   "name": "ds12"
  },
  "language_info": {
   "codemirror_mode": {
    "name": "ipython",
    "version": 3
   },
   "file_extension": ".py",
   "mimetype": "text/x-python",
   "name": "python",
   "nbconvert_exporter": "python",
   "pygments_lexer": "ipython3",
   "version": "3.12.3"
  },
  "widgets": {
   "application/vnd.jupyter.widget-state+json": {
    "state": {},
    "version_major": 2,
    "version_minor": 0
   }
  }
 },
 "nbformat": 4,
 "nbformat_minor": 5
}
