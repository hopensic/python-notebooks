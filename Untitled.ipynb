{
 "cells": [
  {
   "cell_type": "code",
   "execution_count": 2,
   "id": "d0412af4-5487-4f46-872b-83ff954f4e41",
   "metadata": {},
   "outputs": [
    {
     "name": "stdout",
     "output_type": "stream",
     "text": [
      "   key1  key2\n",
      "0     a     1\n",
      "1     a     2\n",
      "2  None     1\n",
      "3     b     2\n",
      "4     b     1\n",
      "5     a  <NA>\n",
      "6  None     1\n",
      "---------------------\n",
      "0     True\n",
      "1     True\n",
      "2    False\n",
      "3    False\n",
      "4    False\n",
      "5     True\n",
      "6    False\n",
      "Name: key1, dtype: bool\n",
      "*************\n",
      "0     True\n",
      "1    False\n",
      "2     True\n",
      "3    False\n",
      "4     True\n",
      "5     <NA>\n",
      "6     True\n",
      "Name: key2, dtype: boolean\n",
      "$$$$$$$$$$$$$$$$$$$$\n",
      "  key1  key2\n",
      "0    a     1\n",
      "1    a     2\n",
      "5    a  <NA>\n",
      "   key1  key2\n",
      "0     a     1\n",
      "2  None     1\n",
      "4     b     1\n",
      "6  None     1\n",
      "%%%%%%%%%%%%%%%%%%%%%%\n"
     ]
    }
   ],
   "source": [
    "import pandas as pd\n",
    "import jaconv\n",
    "\n",
    "df = pd.DataFrame(\n",
    "    {\n",
    "        \"key1\": [\"a\", \"a\", None, \"b\", \"b\", \"a\", None],\n",
    "        \"key2\": pd.Series([1, 2, 1, 2, 1, None, 1], dtype=\"Int64\"),\n",
    "    }\n",
    ")\n",
    "\n",
    "print(df)\n",
    "print(\"---------------------\")\n",
    "# df[df[\"key1\"] == \"a\"]\n",
    "print(df[\"key1\"] == \"a\")\n",
    "print(\"*************\")\n",
    "print(df[\"key2\"] == 1)\n",
    "print(\"$$$$$$$$$$$$$$$$$$$$\")\n",
    "print(df[df[\"key1\"] == \"a\"])\n",
    "print(df[df[\"key2\"] == 1])\n",
    "print(\"%%%%%%%%%%%%%%%%%%%%%%\")"
   ]
  },
  {
   "cell_type": "code",
   "execution_count": 3,
   "id": "9d7056c6-70f1-481e-a7fe-15d8c74cf132",
   "metadata": {},
   "outputs": [
    {
     "name": "stdout",
     "output_type": "stream",
     "text": [
      "   col_1  col_2 col_3\n",
      "0    0.0   0.00   Mon\n",
      "1    0.0   0.24   Tue\n",
      "2    1.0   1.00   Thu\n",
      "3    1.0   0.00   Fri\n",
      "4    0.0   0.22   Mon\n",
      "5    1.0   3.11   Tue\n",
      "6    1.0   0.00   Thu\n",
      "-------------------\n"
     ]
    },
    {
     "ename": "ValueError",
     "evalue": "The truth value of a Series is ambiguous. Use a.empty, a.bool(), a.item(), a.any() or a.all().",
     "output_type": "error",
     "traceback": [
      "\u001b[31m---------------------------------------------------------------------------\u001b[39m",
      "\u001b[31mValueError\u001b[39m                                Traceback (most recent call last)",
      "\u001b[36mCell\u001b[39m\u001b[36m \u001b[39m\u001b[32mIn[3]\u001b[39m\u001b[32m, line 11\u001b[39m\n\u001b[32m      8\u001b[39m \u001b[38;5;28mprint\u001b[39m(df)\n\u001b[32m      9\u001b[39m \u001b[38;5;28mprint\u001b[39m(\u001b[33m\"\u001b[39m\u001b[33m-------------------\u001b[39m\u001b[33m\"\u001b[39m)\n\u001b[32m---> \u001b[39m\u001b[32m11\u001b[39m df_new = df.drop(df[\u001b[43m(\u001b[49m\u001b[43mdf\u001b[49m\u001b[43m[\u001b[49m\u001b[33;43m\"\u001b[39;49m\u001b[33;43mcol_1\u001b[39;49m\u001b[33;43m\"\u001b[39;49m\u001b[43m]\u001b[49m\u001b[43m \u001b[49m\u001b[43m==\u001b[49m\u001b[43m \u001b[49m\u001b[32;43m1.0\u001b[39;49m\u001b[43m)\u001b[49m\u001b[43m \u001b[49m\u001b[38;5;129;43;01mor\u001b[39;49;00m\u001b[43m \u001b[49m\u001b[43m(\u001b[49m\u001b[43mdf\u001b[49m\u001b[43m[\u001b[49m\u001b[33;43m\"\u001b[39;49m\u001b[33;43mcol_2\u001b[39;49m\u001b[33;43m\"\u001b[39;49m\u001b[43m]\u001b[49m\u001b[43m \u001b[49m\u001b[43m==\u001b[49m\u001b[43m \u001b[49m\u001b[32;43m0.0\u001b[39;49m\u001b[43m)\u001b[49m].index)\n\u001b[32m     12\u001b[39m \u001b[38;5;28mprint\u001b[39m(df_new)\n",
      "\u001b[36mFile \u001b[39m\u001b[32md:\\pgm\\miniconda3\\envs\\ds12\\Lib\\site-packages\\pandas\\core\\generic.py:1577\u001b[39m, in \u001b[36mNDFrame.__nonzero__\u001b[39m\u001b[34m(self)\u001b[39m\n\u001b[32m   1575\u001b[39m \u001b[38;5;129m@final\u001b[39m\n\u001b[32m   1576\u001b[39m \u001b[38;5;28;01mdef\u001b[39;00m\u001b[38;5;250m \u001b[39m\u001b[34m__nonzero__\u001b[39m(\u001b[38;5;28mself\u001b[39m) -> NoReturn:\n\u001b[32m-> \u001b[39m\u001b[32m1577\u001b[39m     \u001b[38;5;28;01mraise\u001b[39;00m \u001b[38;5;167;01mValueError\u001b[39;00m(\n\u001b[32m   1578\u001b[39m         \u001b[33mf\u001b[39m\u001b[33m\"\u001b[39m\u001b[33mThe truth value of a \u001b[39m\u001b[38;5;132;01m{\u001b[39;00m\u001b[38;5;28mtype\u001b[39m(\u001b[38;5;28mself\u001b[39m).\u001b[34m__name__\u001b[39m\u001b[38;5;132;01m}\u001b[39;00m\u001b[33m is ambiguous. \u001b[39m\u001b[33m\"\u001b[39m\n\u001b[32m   1579\u001b[39m         \u001b[33m\"\u001b[39m\u001b[33mUse a.empty, a.bool(), a.item(), a.any() or a.all().\u001b[39m\u001b[33m\"\u001b[39m\n\u001b[32m   1580\u001b[39m     )\n",
      "\u001b[31mValueError\u001b[39m: The truth value of a Series is ambiguous. Use a.empty, a.bool(), a.item(), a.any() or a.all()."
     ]
    }
   ],
   "source": [
    "df = pd.DataFrame(\n",
    "    {\n",
    "        \"col_1\": (0.0, 0.0, 1.0, 1.0, 0.0, 1.0, 1.0),\n",
    "        \"col_2\": (0.0, 0.24, 1.0, 0.0, 0.22, 3.11, 0.0),\n",
    "        \"col_3\": (\"Mon\", \"Tue\", \"Thu\", \"Fri\", \"Mon\", \"Tue\", \"Thu\"),\n",
    "    }\n",
    ")\n",
    "print(df)\n",
    "print(\"-------------------\")\n",
    "\n",
    "df_new = df.drop(df[(df[\"col_1\"] == 1.0) or (df[\"col_2\"] == 0.0)].index)\n",
    "print(df_new)"
   ]
  },
  {
   "cell_type": "code",
   "execution_count": null,
   "id": "c8d0f98a-6f74-4ec2-bfe3-782b44c000e9",
   "metadata": {},
   "outputs": [],
   "source": [
    "df = pd.DataFrame(\n",
    "    {\n",
    "        \"id\": [\"a\", \"b\"],\n",
    "        \"f1\": [100, 200],\n",
    "    }\n",
    ")\n",
    "df.set_index(\"id\")\n",
    "\n",
    "df2 = pd.DataFrame(\n",
    "    {\n",
    "        \"id\": [\"a\", \"c\"],\n",
    "        \"f2\": [300, 400],\n",
    "    }\n",
    ")\n",
    "\n",
    "df2.set_index(\"id\")\n",
    "\n",
    "\n",
    "print(df)\n",
    "print(\"------------\")\n",
    "print(df2)"
   ]
  },
  {
   "cell_type": "code",
   "execution_count": null,
   "id": "6ee1e5e2-5ec6-486a-ac2f-235460ec0769",
   "metadata": {},
   "outputs": [],
   "source": [
    "df3 = pd.concat([df.set_index(\"id\"), df2.set_index(\"id\")], axis=1, join=\"outer\")\n",
    "df3"
   ]
  },
  {
   "cell_type": "code",
   "execution_count": 9,
   "id": "2dc80704-4e48-4890-a798-b9c65f37595f",
   "metadata": {},
   "outputs": [
    {
     "name": "stdout",
     "output_type": "stream",
     "text": [
      "トモエマミ\n",
      "ﾄﾓｴﾏﾐ\n",
      "巴まみ\n",
      "ゆーろ\n"
     ]
    }
   ],
   "source": [
    "print(jaconv.hira2kata(\"ともえまみ\"))\n",
    "# => 'トモエマミ'\n",
    "\n",
    "# Hiragana to half-width Katakana\n",
    "print(jaconv.hira2hkata(\"ともえまみ\"))\n",
    "# => 'ﾄﾓｴﾏﾐ'\n",
    "\n",
    "\n",
    "# Katakana to Hiragana\n",
    "print(jaconv.kata2hira(\"巴マミ\"))\n",
    "# => '巴まみ'\n",
    "\n",
    "print(jaconv.kata2hira(\"ユーロ\"))"
   ]
  }
 ],
 "metadata": {
  "kernelspec": {
   "display_name": "ds12_ipy",
   "language": "python",
   "name": "ds12"
  },
  "language_info": {
   "codemirror_mode": {
    "name": "ipython",
    "version": 3
   },
   "file_extension": ".py",
   "mimetype": "text/x-python",
   "name": "python",
   "nbconvert_exporter": "python",
   "pygments_lexer": "ipython3",
   "version": "3.12.9"
  },
  "widgets": {
   "application/vnd.jupyter.widget-state+json": {
    "state": {},
    "version_major": 2,
    "version_minor": 0
   }
  }
 },
 "nbformat": 4,
 "nbformat_minor": 5
}
