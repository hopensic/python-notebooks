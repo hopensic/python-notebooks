{
 "cells": [
  {
   "cell_type": "code",
   "execution_count": 23,
   "id": "d0412af4-5487-4f46-872b-83ff954f4e41",
   "metadata": {},
   "outputs": [
    {
     "name": "stdout",
     "output_type": "stream",
     "text": [
      "   key1  key2\n",
      "0     a     1\n",
      "1     a     2\n",
      "2  None     1\n",
      "3     b     2\n",
      "4     b     1\n",
      "5     a  <NA>\n",
      "6  None     1\n",
      "---------------------\n",
      "0     True\n",
      "1     True\n",
      "2    False\n",
      "3    False\n",
      "4    False\n",
      "5     True\n",
      "6    False\n",
      "Name: key1, dtype: bool\n",
      "*************\n",
      "0     True\n",
      "1    False\n",
      "2     True\n",
      "3    False\n",
      "4     True\n",
      "5     <NA>\n",
      "6     True\n",
      "Name: key2, dtype: boolean\n",
      "$$$$$$$$$$$$$$$$$$$$\n",
      "  key1  key2\n",
      "0    a     1\n",
      "1    a     2\n",
      "5    a  <NA>\n",
      "   key1  key2\n",
      "0     a     1\n",
      "2  None     1\n",
      "4     b     1\n",
      "6  None     1\n",
      "%%%%%%%%%%%%%%%%%%%%%%\n"
     ]
    }
   ],
   "source": [
    "import pandas as pd\n",
    "\n",
    "df = pd.DataFrame(\n",
    "    {\n",
    "        \"key1\": [\"a\", \"a\", None, \"b\", \"b\", \"a\", None],\n",
    "        \"key2\": pd.Series([1, 2, 1, 2, 1, None, 1], dtype=\"Int64\"),\n",
    "    }\n",
    ")\n",
    "print(df)\n",
    "print(\"---------------------\")\n",
    "# df[df[\"key1\"] == \"a\"]\n",
    "print(df[\"key1\"] == \"a\")\n",
    "print(\"*************\")\n",
    "print(df[\"key2\"] == 1)\n",
    "print(\"$$$$$$$$$$$$$$$$$$$$\")\n",
    "print(df[df[\"key1\"] == \"a\"])\n",
    "print(df[df[\"key2\"] == 1])\n",
    "print(\"%%%%%%%%%%%%%%%%%%%%%%\")"
   ]
  },
  {
   "cell_type": "code",
   "execution_count": 19,
   "id": "9d7056c6-70f1-481e-a7fe-15d8c74cf132",
   "metadata": {},
   "outputs": [
    {
     "name": "stdout",
     "output_type": "stream",
     "text": [
      "   col_1  col_2 col_3\n",
      "0    0.0   0.00   Mon\n",
      "1    0.0   0.24   Tue\n",
      "2    1.0   1.00   Thu\n",
      "3    1.0   0.00   Fri\n",
      "4    0.0   0.22   Mon\n",
      "5    1.0   3.11   Tue\n",
      "6    1.0   0.00   Thu\n",
      "-------------------\n"
     ]
    },
    {
     "ename": "ValueError",
     "evalue": "The truth value of a Series is ambiguous. Use a.empty, a.bool(), a.item(), a.any() or a.all().",
     "output_type": "error",
     "traceback": [
      "\u001b[31m---------------------------------------------------------------------------\u001b[39m",
      "\u001b[31mValueError\u001b[39m                                Traceback (most recent call last)",
      "\u001b[36mCell\u001b[39m\u001b[36m \u001b[39m\u001b[32mIn[19]\u001b[39m\u001b[32m, line 7\u001b[39m\n\u001b[32m      4\u001b[39m \u001b[38;5;28mprint\u001b[39m(df)\n\u001b[32m      5\u001b[39m \u001b[38;5;28mprint\u001b[39m(\u001b[33m'\u001b[39m\u001b[33m-------------------\u001b[39m\u001b[33m'\u001b[39m)\n\u001b[32m----> \u001b[39m\u001b[32m7\u001b[39m df_new = df.drop(df[\u001b[43m(\u001b[49m\u001b[43mdf\u001b[49m\u001b[43m[\u001b[49m\u001b[33;43m'\u001b[39;49m\u001b[33;43mcol_1\u001b[39;49m\u001b[33;43m'\u001b[39;49m\u001b[43m]\u001b[49m\u001b[43m \u001b[49m\u001b[43m==\u001b[49m\u001b[43m \u001b[49m\u001b[32;43m1.0\u001b[39;49m\u001b[43m)\u001b[49m\u001b[43m \u001b[49m\u001b[38;5;129;43;01mor\u001b[39;49;00m\u001b[43m \u001b[49m\u001b[43m(\u001b[49m\u001b[43mdf\u001b[49m\u001b[43m[\u001b[49m\u001b[33;43m'\u001b[39;49m\u001b[33;43mcol_2\u001b[39;49m\u001b[33;43m'\u001b[39;49m\u001b[43m]\u001b[49m\u001b[43m \u001b[49m\u001b[43m==\u001b[49m\u001b[43m \u001b[49m\u001b[32;43m0.0\u001b[39;49m\u001b[43m)\u001b[49m].index)\n\u001b[32m      8\u001b[39m \u001b[38;5;28mprint\u001b[39m(df_new)\n",
      "\u001b[36mFile \u001b[39m\u001b[32md:\\pgm\\miniconda3\\envs\\ds12\\Lib\\site-packages\\pandas\\core\\generic.py:1577\u001b[39m, in \u001b[36mNDFrame.__nonzero__\u001b[39m\u001b[34m(self)\u001b[39m\n\u001b[32m   1575\u001b[39m \u001b[38;5;129m@final\u001b[39m\n\u001b[32m   1576\u001b[39m \u001b[38;5;28;01mdef\u001b[39;00m\u001b[38;5;250m \u001b[39m\u001b[34m__nonzero__\u001b[39m(\u001b[38;5;28mself\u001b[39m) -> NoReturn:\n\u001b[32m-> \u001b[39m\u001b[32m1577\u001b[39m     \u001b[38;5;28;01mraise\u001b[39;00m \u001b[38;5;167;01mValueError\u001b[39;00m(\n\u001b[32m   1578\u001b[39m         \u001b[33mf\u001b[39m\u001b[33m\"\u001b[39m\u001b[33mThe truth value of a \u001b[39m\u001b[38;5;132;01m{\u001b[39;00m\u001b[38;5;28mtype\u001b[39m(\u001b[38;5;28mself\u001b[39m).\u001b[34m__name__\u001b[39m\u001b[38;5;132;01m}\u001b[39;00m\u001b[33m is ambiguous. \u001b[39m\u001b[33m\"\u001b[39m\n\u001b[32m   1579\u001b[39m         \u001b[33m\"\u001b[39m\u001b[33mUse a.empty, a.bool(), a.item(), a.any() or a.all().\u001b[39m\u001b[33m\"\u001b[39m\n\u001b[32m   1580\u001b[39m     )\n",
      "\u001b[31mValueError\u001b[39m: The truth value of a Series is ambiguous. Use a.empty, a.bool(), a.item(), a.any() or a.all()."
     ]
    }
   ],
   "source": [
    "df = pd.DataFrame(\n",
    "    {\n",
    "        \"col_1\": (0.0, 0.0, 1.0, 1.0, 0.0, 1.0, 1.0),\n",
    "        \"col_2\": (0.0, 0.24, 1.0, 0.0, 0.22, 3.11, 0.0),\n",
    "        \"col_3\": (\"Mon\", \"Tue\", \"Thu\", \"Fri\", \"Mon\", \"Tue\", \"Thu\"),\n",
    "    }\n",
    ")\n",
    "print(df)\n",
    "print(\"-------------------\")\n",
    "\n",
    "df_new = df.drop(df[(df[\"col_1\"] == 1.0) or (df[\"col_2\"] == 0.0)].index)\n",
    "print(df_new)"
   ]
  },
  {
   "cell_type": "code",
   "execution_count": 34,
   "id": "c8d0f98a-6f74-4ec2-bfe3-782b44c000e9",
   "metadata": {},
   "outputs": [
    {
     "name": "stdout",
     "output_type": "stream",
     "text": [
      "  id   f1\n",
      "0  a  100\n",
      "1  b  200\n",
      "------------\n",
      "  id   f2\n",
      "0  a  300\n",
      "1  c  400\n"
     ]
    }
   ],
   "source": [
    "df = pd.DataFrame(\n",
    "    {\n",
    "        \"id\": [\"a\", \"b\"],\n",
    "        \"f1\": [100, 200],\n",
    "    }\n",
    ")\n",
    "df.set_index(\"id\")\n",
    "\n",
    "df2 = pd.DataFrame(\n",
    "    {\n",
    "        \"id\": [\"a\", \"c\"],\n",
    "        \"f2\": [300, 400],\n",
    "    }\n",
    ")\n",
    "\n",
    "df2.set_index(\"id\")\n",
    "\n",
    "\n",
    "print(df)\n",
    "print(\"------------\")\n",
    "print(df2)"
   ]
  },
  {
   "cell_type": "code",
   "execution_count": 35,
   "id": "6ee1e5e2-5ec6-486a-ac2f-235460ec0769",
   "metadata": {},
   "outputs": [
    {
     "data": {
      "text/html": [
       "<div>\n",
       "<style scoped>\n",
       "    .dataframe tbody tr th:only-of-type {\n",
       "        vertical-align: middle;\n",
       "    }\n",
       "\n",
       "    .dataframe tbody tr th {\n",
       "        vertical-align: top;\n",
       "    }\n",
       "\n",
       "    .dataframe thead th {\n",
       "        text-align: right;\n",
       "    }\n",
       "</style>\n",
       "<table border=\"1\" class=\"dataframe\">\n",
       "  <thead>\n",
       "    <tr style=\"text-align: right;\">\n",
       "      <th></th>\n",
       "      <th>f1</th>\n",
       "      <th>f2</th>\n",
       "    </tr>\n",
       "    <tr>\n",
       "      <th>id</th>\n",
       "      <th></th>\n",
       "      <th></th>\n",
       "    </tr>\n",
       "  </thead>\n",
       "  <tbody>\n",
       "    <tr>\n",
       "      <th>a</th>\n",
       "      <td>100.0</td>\n",
       "      <td>300.0</td>\n",
       "    </tr>\n",
       "    <tr>\n",
       "      <th>b</th>\n",
       "      <td>200.0</td>\n",
       "      <td>NaN</td>\n",
       "    </tr>\n",
       "    <tr>\n",
       "      <th>c</th>\n",
       "      <td>NaN</td>\n",
       "      <td>400.0</td>\n",
       "    </tr>\n",
       "  </tbody>\n",
       "</table>\n",
       "</div>"
      ],
      "text/plain": [
       "       f1     f2\n",
       "id              \n",
       "a   100.0  300.0\n",
       "b   200.0    NaN\n",
       "c     NaN  400.0"
      ]
     },
     "execution_count": 35,
     "metadata": {},
     "output_type": "execute_result"
    }
   ],
   "source": [
    "df3 = pd.concat([df.set_index(\"id\"), df2.set_index(\"id\")], axis=1, join=\"outer\")\n",
    "df3"
   ]
  },
  {
   "cell_type": "code",
   "execution_count": null,
   "id": "56906548-faca-4e58-b07c-d53301fd919e",
   "metadata": {},
   "outputs": [],
   "source": []
  }
 ],
 "metadata": {
  "kernelspec": {
   "display_name": "ds12_ipy",
   "language": "python",
   "name": "ds12"
  },
  "language_info": {
   "codemirror_mode": {
    "name": "ipython",
    "version": 3
   },
   "file_extension": ".py",
   "mimetype": "text/x-python",
   "name": "python",
   "nbconvert_exporter": "python",
   "pygments_lexer": "ipython3",
   "version": "3.12.9"
  },
  "widgets": {
   "application/vnd.jupyter.widget-state+json": {
    "state": {},
    "version_major": 2,
    "version_minor": 0
   }
  }
 },
 "nbformat": 4,
 "nbformat_minor": 5
}
