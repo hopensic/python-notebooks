{
 "cells": [
  {
   "cell_type": "code",
   "execution_count": null,
   "id": "d0412af4-5487-4f46-872b-83ff954f4e41",
   "metadata": {},
   "outputs": [],
   "source": [
    "import pandas as pd\n",
    "\n",
    "df = pd.DataFrame(\n",
    "    {\n",
    "        \"key1\": [\"a\", \"a\", None, \"b\", \"b\", \"a\", None],\n",
    "        \"key2\": pd.Series([1, 2, 1, 2, 1, None, 1], dtype=\"Int64\"),\n",
    "    }\n",
    ")\n",
    "\n",
    "print(df)\n",
    "print(\"---------------------\")\n",
    "# df[df[\"key1\"] == \"a\"]\n",
    "print(df[\"key1\"] == \"a\")\n",
    "print(\"*************\")\n",
    "print(df[\"key2\"] == 1)\n",
    "print(\"$$$$$$$$$$$$$$$$$$$$\")\n",
    "print(df[df[\"key1\"] == \"a\"])\n",
    "print(df[df[\"key2\"] == 1])\n",
    "print(\"%%%%%%%%%%%%%%%%%%%%%%\")"
   ]
  },
  {
   "cell_type": "code",
   "execution_count": null,
   "id": "9d7056c6-70f1-481e-a7fe-15d8c74cf132",
   "metadata": {},
   "outputs": [],
   "source": [
    "df = pd.DataFrame(\n",
    "    {\n",
    "        \"col_1\": (0.0, 0.0, 1.0, 1.0, 0.0, 1.0, 1.0),\n",
    "        \"col_2\": (0.0, 0.24, 1.0, 0.0, 0.22, 3.11, 0.0),\n",
    "        \"col_3\": (\"Mon\", \"Tue\", \"Thu\", \"Fri\", \"Mon\", \"Tue\", \"Thu\"),\n",
    "    }\n",
    ")\n",
    "print(df)\n",
    "print(\"-------------------\")\n",
    "\n",
    "df_new = df.drop(df[(df[\"col_1\"] == 1.0) or (df[\"col_2\"] == 0.0)].index)\n",
    "print(df_new)"
   ]
  },
  {
   "cell_type": "code",
   "execution_count": null,
   "id": "c8d0f98a-6f74-4ec2-bfe3-782b44c000e9",
   "metadata": {},
   "outputs": [],
   "source": [
    "df = pd.DataFrame(\n",
    "    {\n",
    "        \"id\": [\"a\", \"b\"],\n",
    "        \"f1\": [100, 200],\n",
    "    }\n",
    ")\n",
    "df.set_index(\"id\")\n",
    "\n",
    "df2 = pd.DataFrame(\n",
    "    {\n",
    "        \"id\": [\"a\", \"c\"],\n",
    "        \"f2\": [300, 400],\n",
    "    }\n",
    ")\n",
    "\n",
    "df2.set_index(\"id\")\n",
    "\n",
    "\n",
    "print(df)\n",
    "print(\"------------\")\n",
    "print(df2)"
   ]
  },
  {
   "cell_type": "code",
   "execution_count": null,
   "id": "6ee1e5e2-5ec6-486a-ac2f-235460ec0769",
   "metadata": {},
   "outputs": [],
   "source": [
    "df3 = pd.concat([df.set_index(\"id\"), df2.set_index(\"id\")], axis=1, join=\"outer\")\n",
    "df3"
   ]
  },
  {
   "cell_type": "code",
   "execution_count": null,
   "id": "56906548-faca-4e58-b07c-d53301fd919e",
   "metadata": {},
   "outputs": [],
   "source": []
  }
 ],
 "metadata": {
  "kernelspec": {
   "display_name": "ds12_ipy",
   "language": "python",
   "name": "ds12"
  },
  "language_info": {
   "codemirror_mode": {
    "name": "ipython",
    "version": 3
   },
   "file_extension": ".py",
   "mimetype": "text/x-python",
   "name": "python",
   "nbconvert_exporter": "python",
   "pygments_lexer": "ipython3",
   "version": "3.12.9"
  },
  "widgets": {
   "application/vnd.jupyter.widget-state+json": {
    "state": {},
    "version_major": 2,
    "version_minor": 0
   }
  }
 },
 "nbformat": 4,
 "nbformat_minor": 5
}
