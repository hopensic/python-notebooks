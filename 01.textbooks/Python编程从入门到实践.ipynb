{
 "cells": [
  {
   "cell_type": "markdown",
   "metadata": {
    "toc-hr-collapsed": false
   },
   "source": [
    "# Ch2. 变量和简单数据类型"
   ]
  },
  {
   "cell_type": "markdown",
   "metadata": {},
   "source": [
    "## 2.3 字符串\n",
    "字符串可以是单引号和双引号\n"
   ]
  },
  {
   "cell_type": "code",
   "execution_count": 2,
   "metadata": {},
   "outputs": [
    {
     "name": "stdout",
     "output_type": "stream",
     "text": [
      "abc\n",
      "123\n",
      "Abc\n",
      "abc\n",
      "ABC\n",
      "python\n"
     ]
    }
   ],
   "source": [
    "str1 = \"abc\"\n",
    "str2 = \"123\"\n",
    "print(str1)\n",
    "print(str2)\n",
    "# 首字母大写\n",
    "print(str1.title())\n",
    "# 全部字母小写\n",
    "print(\"aBc\".lower())\n",
    "# 全部字母大写\n",
    "print(\"aBc\".upper())\n",
    "# 删除右面的空格\n",
    "print(\"python   \".rstrip())"
   ]
  },
  {
   "cell_type": "markdown",
   "metadata": {},
   "source": [
    "## 2.4 数字"
   ]
  },
  {
   "cell_type": "code",
   "execution_count": 1,
   "metadata": {},
   "outputs": [
    {
     "name": "stdout",
     "output_type": "stream",
     "text": [
      "123456\n"
     ]
    }
   ],
   "source": [
    "# 使用str()将数字变为字符串\n",
    "print(str(123) + str(456))"
   ]
  },
  {
   "cell_type": "code",
   "execution_count": 6,
   "metadata": {},
   "outputs": [
    {
     "name": "stdout",
     "output_type": "stream",
     "text": [
      "AAA\n"
     ]
    }
   ],
   "source": [
    "a = 'aaa'\n",
    "print(a.upper())"
   ]
  },
  {
   "cell_type": "markdown",
   "metadata": {
    "toc-hr-collapsed": false
   },
   "source": [
    "# Ch3. 列表\n",
    "## 3.1 什么是列表\n",
    "[] 这就是列表\n",
    "通过-1可以访问列表的最后一个元素\n"
   ]
  },
  {
   "cell_type": "code",
   "execution_count": 7,
   "metadata": {},
   "outputs": [
    {
     "data": {
      "text/plain": [
       "3"
      ]
     },
     "execution_count": 7,
     "metadata": {},
     "output_type": "execute_result"
    }
   ],
   "source": [
    "a = [1, 2, 3]\n",
    "a[-1]"
   ]
  },
  {
   "cell_type": "markdown",
   "metadata": {},
   "source": [
    "## 3.2增删改列表中的元素"
   ]
  },
  {
   "cell_type": "code",
   "execution_count": 12,
   "metadata": {},
   "outputs": [
    {
     "name": "stdout",
     "output_type": "stream",
     "text": [
      "a=[1, 'first', '99', 3, 4]\n",
      "b=[4, 6]\n",
      "c=[7, 8, 9, 10]\n",
      "poped=10\n",
      "poped=9\n",
      "e=[2, 3, 1, 5]\n"
     ]
    }
   ],
   "source": [
    "a = [1, 2, 3]\n",
    "# 直接修改\n",
    "a[1] = '99'\n",
    "# 通过append来向末尾增加元素\n",
    "a.append(4)\n",
    "# 通过insert向列表的某个位置增加元素\n",
    "a.insert(1, 'first')\n",
    "print('a=' + str(a))\n",
    "\n",
    "# 列表中删除元素\n",
    "b = [4, 5, 6]\n",
    "# del 的方式删除\n",
    "del b[1]\n",
    "print('b=' + str(b))\n",
    "\n",
    "# pop 的方式删除，是从尾部删除。\n",
    "# pop可以返回被删除的元素\n",
    "# pop也可以弹出任意位置的元素\n",
    "c = [7, 8, 9, 10, 11]\n",
    "c.pop()\n",
    "print('c=' + str(c))\n",
    "poped = c.pop()\n",
    "print('poped=' + str(poped))\n",
    "d = [7, 8, 9, 10, 11]\n",
    "print('poped=' + str(d.pop(2)))\n",
    "\n",
    "# remove 删除遇到的第一个值\n",
    "e = [1, 2, 3, 1, 5]\n",
    "e.remove(1)\n",
    "print('e=' + str(e))"
   ]
  },
  {
   "cell_type": "markdown",
   "metadata": {
    "toc-hr-collapsed": false
   },
   "source": [
    "## 3.3排序，组织列表"
   ]
  },
  {
   "cell_type": "markdown",
   "metadata": {},
   "source": [
    "#使用sort()对列表进行永久性排序\n",
    "a=[3,5,1,4]\n",
    "a.sort()\n",
    "print(a)\n",
    "\n",
    "# 排逆序\n",
    "b=[3,5,1,4]\n",
    "b.sort(reverse=True)\n",
    "print(b)\n",
    "\n",
    "#使用sorted()进行临时排序\n",
    "c=[1,5,4,7]\n",
    "print(sorted(c,reverse=True))\n",
    "print(c)\n",
    "\n",
    "#使用reverse()，将列表中的元素倒排\n",
    "d=[2,3,1,4]\n",
    "d.reverse()\n",
    "print(d)\n",
    "\n"
   ]
  },
  {
   "cell_type": "markdown",
   "metadata": {
    "toc-hr-collapsed": false
   },
   "source": [
    "# Ch4. 操作列表"
   ]
  },
  {
   "cell_type": "markdown",
   "metadata": {},
   "source": [
    "## 4.3 创建数字列表"
   ]
  },
  {
   "cell_type": "code",
   "execution_count": 10,
   "metadata": {},
   "outputs": [
    {
     "name": "stdout",
     "output_type": "stream",
     "text": [
      "1\n",
      "2\n",
      "3\n",
      "4\n",
      "range(1, 5)\n",
      "[1, 2]\n",
      "[2, 5, 8]\n",
      "[1, 4, 9, 16, 25]\n"
     ]
    }
   ],
   "source": [
    "#使用range()来创建数字\n",
    "a = range(1, 5)\n",
    "for x in a:\n",
    "    print(x)\n",
    "print(a)\n",
    "\n",
    "#可以用list()将range转换为列表\n",
    "b = list(range(1, 3))\n",
    "print(b)\n",
    "\n",
    "#range还可以抱定初始定和步长\n",
    "c = list(range(2, 10, 3))\n",
    "print(c)\n",
    "\n",
    "#列表解析\n",
    "squares = [value**2 for value in range(1, 6)]\n",
    "print(squares)"
   ]
  },
  {
   "cell_type": "markdown",
   "metadata": {},
   "source": [
    "## 4.3 列表解析(习题)"
   ]
  },
  {
   "cell_type": "code",
   "execution_count": 5,
   "metadata": {},
   "outputs": [
    {
     "name": "stdout",
     "output_type": "stream",
     "text": [
      "1,2,3,4,5,6,7,8,9,10,11,12,13,14,15,16,17,18,19,20,\n",
      "1000000\n",
      "1\n",
      "500000500000\n"
     ]
    }
   ],
   "source": [
    "# 4.3\n",
    "s = ''\n",
    "for a in range(1, 21):\n",
    "    s += str(a) + ','\n",
    "print(s)\n",
    "\n",
    "# 4.4\n",
    "a = list(range(1, 1000001))\n",
    "print(max(a))\n",
    "print(min(a))\n",
    "print(sum(a))"
   ]
  },
  {
   "cell_type": "markdown",
   "metadata": {},
   "source": [
    "## 4.4 使用列表的一部分"
   ]
  },
  {
   "cell_type": "code",
   "execution_count": 9,
   "metadata": {},
   "outputs": [
    {
     "name": "stdout",
     "output_type": "stream",
     "text": [
      "[2, 3]\n",
      "------------------\n",
      "[1, 2, 3, 4, 5]\n",
      "[1, 2, 3, 4, 5]\n",
      "[99, 2, 3, 4, 5]\n",
      "[99, 2, 3, 4, 5]\n"
     ]
    }
   ],
   "source": [
    "# 切片 a[0:3]\n",
    "a = [1, 2, 3, 4, 5]\n",
    "b = a[1:3]\n",
    "print(b)\n",
    "print('------------------')\n",
    "\n",
    "# 复制列表\n",
    "c = a[:]\n",
    "d = c\n",
    "print(c)\n",
    "print(d)\n",
    "d[0] = 99\n",
    "print(d)\n",
    "print(c)"
   ]
  },
  {
   "cell_type": "markdown",
   "metadata": {},
   "source": [
    "## 4.5元组\n",
    "\n",
    "元组是不可以修改的\n",
    "\n",
    "元组的定义: ()\n",
    "\n",
    "比如\n",
    "```python\n",
    "a = (200,50)\n",
    "print(a[0])\n",
    "print(a[1])\n",
    "```"
   ]
  },
  {
   "cell_type": "code",
   "execution_count": 17,
   "metadata": {},
   "outputs": [
    {
     "name": "stdout",
     "output_type": "stream",
     "text": [
      "200\n",
      "50\n",
      "------------------\n",
      "200\n",
      "50\n",
      "(200, 25)\n",
      "(1, 12)\n"
     ]
    }
   ],
   "source": [
    "a = (200, 50)\n",
    "print(a[0])\n",
    "print(a[1])\n",
    "print('------------------')\n",
    "# 遍历元组的所有值\n",
    "for x in a:\n",
    "    print(x)\n",
    "\n",
    "# 可以重新给元组赋值\n",
    "b = (200, 25)\n",
    "print(b)\n",
    "b = (1, 12)\n",
    "print(b)"
   ]
  },
  {
   "cell_type": "markdown",
   "metadata": {},
   "source": [
    "# Ch6. 字典"
   ]
  },
  {
   "cell_type": "markdown",
   "metadata": {},
   "source": [
    "# Ch7. 用户输入和While循环"
   ]
  },
  {
   "cell_type": "markdown",
   "metadata": {},
   "source": [
    "# Ch8. 函数"
   ]
  },
  {
   "cell_type": "markdown",
   "metadata": {},
   "source": [
    "## 8.2 传递实参"
   ]
  },
  {
   "cell_type": "code",
   "execution_count": 28,
   "metadata": {},
   "outputs": [
    {
     "name": "stdout",
     "output_type": "stream",
     "text": [
      "types:aType\n",
      "name:aName\n",
      "-----------------------------\n",
      "types:bType\n",
      "name:bName\n",
      "-----------------------------\n",
      "types:cType\n",
      "name:defaultName\n",
      "types:cType\n",
      "name:cName\n",
      "-----------------------------\n"
     ]
    }
   ],
   "source": [
    "# 位置实参\n",
    "\n",
    "\n",
    "def test(types, name):\n",
    "    print('types:' + types)\n",
    "    print('name:' + name)\n",
    "\n",
    "\n",
    "test('aType', 'aName')\n",
    "print('-----------------------------')\n",
    "\n",
    "# 关键字实参\n",
    "test(name='bName', types='bType')\n",
    "print('-----------------------------')\n",
    "\n",
    "\n",
    "# 函数可以有默认值\n",
    "def test2(types, name='defaultName'):\n",
    "    print('types:' + types)\n",
    "    print('name:' + name)\n",
    "\n",
    "\n",
    "test2('cType')\n",
    "test2('cType', 'cName')\n",
    "\n",
    "print('-----------------------------')"
   ]
  },
  {
   "cell_type": "markdown",
   "metadata": {},
   "source": [
    "## 8.4 传递列表"
   ]
  },
  {
   "cell_type": "code",
   "execution_count": 33,
   "metadata": {},
   "outputs": [
    {
     "name": "stdout",
     "output_type": "stream",
     "text": [
      "[99, 2, 3]\n",
      "----------------------\n",
      "[4, 5, 6]\n"
     ]
    }
   ],
   "source": [
    "# 在函数中修改列表\n",
    "def changeList(p_list):\n",
    "    p_list[0] = 99\n",
    "\n",
    "\n",
    "a = [1, 2, 3]\n",
    "changeList(a)\n",
    "print(a)\n",
    "print('----------------------')\n",
    "\n",
    "\n",
    "# 禁止函数修改列表(传递副本)\n",
    "def forbidChangeList(p_list):\n",
    "    p_list[0] = 88\n",
    "\n",
    "\n",
    "b = [4, 5, 6]\n",
    "forbidChangeList(b[:])\n",
    "print(b)"
   ]
  },
  {
   "cell_type": "markdown",
   "metadata": {},
   "source": [
    "## 8.5 传递任意数量的实参"
   ]
  },
  {
   "cell_type": "markdown",
   "metadata": {},
   "source": [
    "# 函数中定义的是元组\n",
    "def a(*toppings):    \n",
    "    print(toppings)\n",
    "a('abc')\n",
    "a('abc','def')\n",
    "print('-----------------------------')\n",
    "\n",
    "#函数中定义字典\n",
    "def build_profile(**dic):\n",
    "    userDic={}\n",
    "    for key,value in dic.items():\n",
    "        userDic[key]=value\n",
    "    return userDic\n",
    "\n",
    "print(build_profile(location='hangzhou',field='math'))\n",
    "\n",
    "\n"
   ]
  },
  {
   "cell_type": "markdown",
   "metadata": {},
   "source": [
    "## 8.6 将函数存储在模块中"
   ]
  },
  {
   "cell_type": "markdown",
   "metadata": {},
   "source": [
    "# Ch15. 绘制简单的图表"
   ]
  },
  {
   "cell_type": "markdown",
   "metadata": {},
   "source": [
    "## 15.2 绘制简单的折线图"
   ]
  },
  {
   "cell_type": "code",
   "execution_count": 1,
   "metadata": {},
   "outputs": [
    {
     "data": {
      "text/plain": [
       "<Figure size 640x480 with 1 Axes>"
      ]
     },
     "metadata": {},
     "output_type": "display_data"
    }
   ],
   "source": [
    "import matplotlib.pyplot as plt\n",
    "\n",
    "squares = [1, 4, 9, 16, 25]\n",
    "plt.plot(squares)\n",
    "plt.show()"
   ]
  },
  {
   "cell_type": "code",
   "execution_count": null,
   "metadata": {},
   "outputs": [],
   "source": []
  }
 ],
 "metadata": {
  "kernelspec": {
   "display_name": "Python 3 (ipykernel)",
   "language": "python",
   "name": "python3"
  },
  "language_info": {
   "codemirror_mode": {
    "name": "ipython",
    "version": 3
   },
   "file_extension": ".py",
   "mimetype": "text/x-python",
   "name": "python",
   "nbconvert_exporter": "python",
   "pygments_lexer": "ipython3",
   "version": "3.12.9"
  },
  "toc-autonumbering": false,
  "toc-showcode": false,
  "toc-showmarkdowntxt": true,
  "toc-showtags": true,
  "widgets": {
   "application/vnd.jupyter.widget-state+json": {
    "state": {},
    "version_major": 2,
    "version_minor": 0
   }
  }
 },
 "nbformat": 4,
 "nbformat_minor": 4
}
