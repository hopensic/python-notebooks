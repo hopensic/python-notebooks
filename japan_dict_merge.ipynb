{
 "cells": [
  {
   "cell_type": "code",
   "execution_count": 22,
   "id": "2477b5f9-2c4f-4e8e-807b-59e86fc55ea4",
   "metadata": {},
   "outputs": [],
   "source": [
    "import pandas as pd\n",
    "\n",
    "spoken_freq_nlb_sumed_csv_path = \"D:/05.japanproject/jp/freq/spoken_freq_nlb_sumed.csv\"\n",
    "written_freq_nlt_sumed_csv_path = (\n",
    "    \"D:/05.japanproject/jp/freq/written_freq_nlt_sumed.csv\"\n",
    ")\n",
    "merged_freq_nlb_sumed_csv_path = (\n",
    "    \"D:/05.japanproject/jp/freq/merged_freq_nlb_sumed_csv_path.csv\"\n",
    ")"
   ]
  },
  {
   "cell_type": "code",
   "execution_count": 18,
   "id": "0f7608de-a88a-4cc6-9020-4af57d2c2bd2",
   "metadata": {},
   "outputs": [
    {
     "name": "stdout",
     "output_type": "stream",
     "text": [
      "ok\n"
     ]
    }
   ],
   "source": [
    "df_spoken = pd.read_csv(\n",
    "    spoken_freq_nlb_sumed_csv_path,\n",
    "    encoding=\"utf-8-sig\",\n",
    "    on_bad_lines=\"skip\",\n",
    "    engine=\"python\",\n",
    "    index_col=0,\n",
    ")\n",
    "\n",
    "df_written = pd.read_csv(\n",
    "    written_freq_nlt_sumed_csv_path,\n",
    "    encoding=\"utf-8-sig\",\n",
    "    on_bad_lines=\"skip\",\n",
    "    engine=\"python\",\n",
    "    index_col=0,\n",
    ")\n",
    "# print(df_spoken)\n",
    "print(\"ok\")"
   ]
  },
  {
   "cell_type": "code",
   "execution_count": 19,
   "id": "c3521bac-fe3e-405a-a896-f44dd0d03c2c",
   "metadata": {},
   "outputs": [
    {
     "name": "stdout",
     "output_type": "stream",
     "text": [
      "77990\n"
     ]
    }
   ],
   "source": [
    "ids_df_spoken = set(df_spoken.index)\n",
    "ids_df_written = set(df_written.index)\n",
    "common_ids = ids_df_spoken & ids_df_written\n",
    "print(len(common_ids))"
   ]
  },
  {
   "cell_type": "code",
   "execution_count": 23,
   "id": "8602cc7d-6bd4-4fdd-ba15-3d4ef5503cb6",
   "metadata": {},
   "outputs": [
    {
     "name": "stdout",
     "output_type": "stream",
     "text": [
      "ok\n"
     ]
    }
   ],
   "source": [
    "df_merged = pd.concat([df_spoken, df_written], axis=1, join=\"outer\")\n",
    "df_merged.to_csv(merged_freq_nlb_sumed_csv_path, encoding=\"utf-8-sig\")\n",
    "print(\"ok\")"
   ]
  },
  {
   "cell_type": "code",
   "execution_count": null,
   "id": "170a9f99-c640-48fa-8c9c-fb888733b9fd",
   "metadata": {},
   "outputs": [],
   "source": []
  },
  {
   "cell_type": "code",
   "execution_count": null,
   "id": "6e9ec45f-2ce1-4554-8470-0198520eb186",
   "metadata": {},
   "outputs": [],
   "source": []
  }
 ],
 "metadata": {
  "kernelspec": {
   "display_name": "ds12_ipy",
   "language": "python",
   "name": "ds12"
  },
  "language_info": {
   "codemirror_mode": {
    "name": "ipython",
    "version": 3
   },
   "file_extension": ".py",
   "mimetype": "text/x-python",
   "name": "python",
   "nbconvert_exporter": "python",
   "pygments_lexer": "ipython3",
   "version": "3.12.9"
  },
  "widgets": {
   "application/vnd.jupyter.widget-state+json": {
    "state": {},
    "version_major": 2,
    "version_minor": 0
   }
  }
 },
 "nbformat": 4,
 "nbformat_minor": 5
}
